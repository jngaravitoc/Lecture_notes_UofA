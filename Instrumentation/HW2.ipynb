{
 "cells": [
  {
   "cell_type": "markdown",
   "metadata": {},
   "source": [
    "# HW2 Astr 518\n",
    "\n",
    "# Nicolas Garavito"
   ]
  },
  {
   "cell_type": "markdown",
   "metadata": {},
   "source": [
    "In this notebook I'll through the HW exercises, both showing the code and the results."
   ]
  },
  {
   "cell_type": "code",
   "execution_count": 1,
   "metadata": {
    "collapsed": false
   },
   "outputs": [
    {
     "name": "stdout",
     "output_type": "stream",
     "text": [
      "Populating the interactive namespace from numpy and matplotlib\n"
     ]
    }
   ],
   "source": [
    "%pylab inline\n",
    "from matplotlib import cm"
   ]
  },
  {
   "cell_type": "code",
   "execution_count": 2,
   "metadata": {
    "collapsed": true
   },
   "outputs": [],
   "source": [
    "data = np.loadtxt('../HW2.txt')\n",
    "X = data[:,1]\n",
    "Y = data[:,2]\n",
    "sigma_X = data[:,4]\n",
    "sigma_Y = data[:,3]\n",
    "rho_xy = data[:,5]\n"
   ]
  },
  {
   "cell_type": "code",
   "execution_count": 3,
   "metadata": {
    "collapsed": false
   },
   "outputs": [],
   "source": [
    "font = {'size':18, 'family':'serif'}\n",
    "plt.matplotlib.rc('font', **font)\n",
    "\n",
    "\n",
    "def scatter_plot(x, y, m,b,sigmax=False, sigmay=False, q=False):\n",
    "    x_plot = np.linspace(0, 300)\n",
    "    figsize(6,5)\n",
    "    errorbar(x, y, xerr=sigmax, yerr=sigmay, c='k', fmt='o')\n",
    "    if q:\n",
    "        y_plot = q*x_plot**2.0 + x_plot*m + b\n",
    "        plot(x_plot, y_plot, c='k', alpha=0.7, label='$ y = ({}) x^2 + ({})x + {}$'.format(q, m, b))\n",
    "    else:\n",
    "        y_plot = x_plot * m +b\n",
    "        plot(x_plot, y_plot, c='k', alpha=0.7, label='$ y = ({})x +{}$'.format(m, b))\n",
    "    \n",
    "    legend(loc='best', fontsize=15)\n",
    "    xlabel('$x$', fontsize=25)\n",
    "    ylabel('$y$', fontsize=25)\n",
    "    "
   ]
  },
  {
   "cell_type": "markdown",
   "metadata": {},
   "source": [
    "# 1"
   ]
  },
  {
   "cell_type": "markdown",
   "metadata": {},
   "source": [
    "Bellow is the function (linear_fit1) to compute the values of $m$ and $b$ following Hogg 2010 Eq.5"
   ]
  },
  {
   "cell_type": "code",
   "execution_count": 4,
   "metadata": {
    "collapsed": false
   },
   "outputs": [],
   "source": [
    "def linear_fit1(x, y, sigmay):\n",
    "    \"\"\"\n",
    "    Function to make the basic linear fit! Following Hogg (2010)\n",
    "    Eq. 5. \n",
    "    \n",
    "    \"\"\"\n",
    "    A = np.ones((len(y), 2))\n",
    "    A[:,1] = x    \n",
    "    C = np.zeros((len(y), len(y)))\n",
    "    for i in range(len(y)):\n",
    "        C[i][i] = sigmay[i]**2.0\n",
    "    C_inv = linalg.inv(C)\n",
    "    \n",
    "    cov = dot(A.T,dot(C_inv,A))\n",
    "    cov_inv = linalg.inv(cov)\n",
    "    mat2 = dot(A.T,dot(C_inv,y))\n",
    "    \n",
    "    b,m = dot(cov_inv, mat2)\n",
    "    \n",
    "    print('b =', b)\n",
    "    print('m =', m)\n",
    "    print('sigma_b =',np.sqrt(cov_inv[0,0]))\n",
    "    print('sigma_m =',np.sqrt(cov_inv[1,1]))"
   ]
  },
  {
   "cell_type": "markdown",
   "metadata": {
    "collapsed": false
   },
   "source": [
    "# 1a.\n",
    "\n",
    "\n",
    "Ignore the first four points in the data table.  Use standard linear algebra to obtain a \n",
    "best fit line ($y=mx+b$) to the data, using $\\sigma_y$, and ignoring $\\sigma_x$ and $\\rho_xy$.  \n",
    "Report the best fit (given by the program) and uncertainty (you will need to modify the \n",
    "program for these) for $m$ and $b$.  Create a plot.\n",
    "\n"
   ]
  },
  {
   "cell_type": "code",
   "execution_count": 5,
   "metadata": {
    "collapsed": false
   },
   "outputs": [
    {
     "name": "stdout",
     "output_type": "stream",
     "text": [
      "b = 34.0477277575\n",
      "m = 2.23992083163\n",
      "sigma_b = 18.2461667493\n",
      "sigma_m = 0.107780476541\n"
     ]
    }
   ],
   "source": [
    "linear_fit1(X[4:], Y[4:], sigma_Y[4:])"
   ]
  },
  {
   "cell_type": "code",
   "execution_count": 6,
   "metadata": {
    "collapsed": false
   },
   "outputs": [
    {
     "data": {
      "image/png": "[encoded data removed]",
      "text/plain": [
       "<matplotlib.figure.Figure at 0x7f5ae04cfe10>"
      ]
     },
     "metadata": {},
     "output_type": "display_data"
    }
   ],
   "source": [
    "scatter_plot(X[4:], Y[4:], sigmay=sigma_Y[4:], m=2.23, b=34.04)\n"
   ]
  },
  {
   "cell_type": "markdown",
   "metadata": {},
   "source": [
    "# 1b.\n",
    "\n",
    "Include the first four points and repeat the exercise, including the plot. Compare the \n",
    "uncertainties on the fit parameters.  Discuss the differences and accuracy of the \n",
    "derived parameters and uncertainties."
   ]
  },
  {
   "cell_type": "code",
   "execution_count": 7,
   "metadata": {
    "collapsed": false
   },
   "outputs": [
    {
     "name": "stdout",
     "output_type": "stream",
     "text": [
      "b = 213.273491976\n",
      "m = 1.07674752417\n",
      "sigma_b = 14.3940331072\n",
      "sigma_m = 0.0774067831658\n"
     ]
    }
   ],
   "source": [
    "linear_fit1(X, Y, sigma_Y)"
   ]
  },
  {
   "cell_type": "code",
   "execution_count": 8,
   "metadata": {
    "collapsed": false
   },
   "outputs": [
    {
     "data": {
      "image/png": "[encoded data removed]",
      "text/plain": [
       "<matplotlib.figure.Figure at 0x7f5ae04cf8d0>"
      ]
     },
     "metadata": {},
     "output_type": "display_data"
    }
   ],
   "source": [
    "scatter_plot(X, Y, sigmay=sigma_Y, m=1.076, b=213.27)"
   ]
  },
  {
   "cell_type": "markdown",
   "metadata": {},
   "source": [
    "**Discussion:** The first thing to notest is that I get very different values for $b$, $m$, $\\sigma_b$\n",
    "and $\\sigma_m$ in both cases. This \n"
   ]
  },
  {
   "cell_type": "markdown",
   "metadata": {},
   "source": [
    "# 1c.\n",
    "\n",
    "Generalize the method above to include a quadratic term and redo 1.a. with this fit.  \n",
    "You will need to add a column to the A matrix to do this"
   ]
  },
  {
   "cell_type": "code",
   "execution_count": 9,
   "metadata": {
    "collapsed": true
   },
   "outputs": [],
   "source": [
    "def linear_fit2(x, y, sigmay):\n",
    "    A = np.ones((len(y), 3))\n",
    "    A[:,1] = x    \n",
    "    A[:,2] = x**2.0\n",
    "    C = np.zeros((len(y), len(y)))\n",
    "    for i in range(len(y)):\n",
    "        C[i][i] = sigmay[i]**2.0\n",
    "    C_inv = linalg.inv(C)\n",
    "    \n",
    "    cov = dot(A.T,dot(C_inv,A))\n",
    "    cov_inv = linalg.inv(cov)\n",
    "    mat2 = dot(A.T,dot(C_inv,y))\n",
    "    \n",
    "    b,m,q = dot(cov_inv, mat2)\n",
    "    \n",
    "    print('q =', q)\n",
    "    print('b =', b)\n",
    "    print('m =', m)\n",
    "    print('sigma_q = ',np.sqrt(cov_inv[0,0]))\n",
    "    print('sigma_b = ',np.sqrt(cov_inv[1,1]))\n",
    "    print('sigma_m = ',np.sqrt(cov_inv[2,2]))\n"
   ]
  },
  {
   "cell_type": "code",
   "execution_count": 10,
   "metadata": {
    "collapsed": false
   },
   "outputs": [
    {
     "name": "stdout",
     "output_type": "stream",
     "text": [
      "q = 0.00229888840812\n",
      "b = 72.8946264717\n",
      "m = 1.59605045227\n",
      "sigma_q =  38.9115551946\n",
      "sigma_b =  0.579747912517\n",
      "sigma_m =  0.00203385870874\n"
     ]
    }
   ],
   "source": [
    "linear_fit2(X[4:], Y[4:], sigma_Y[4:])"
   ]
  },
  {
   "cell_type": "code",
   "execution_count": 11,
   "metadata": {
    "collapsed": false
   },
   "outputs": [
    {
     "data": {
      "image/png": "[encoded data removed]",
      "text/plain": [
       "<matplotlib.figure.Figure at 0x7f5ae0213048>"
      ]
     },
     "metadata": {},
     "output_type": "display_data"
    }
   ],
   "source": [
    "scatter_plot(X, Y, sigmay=sigma_Y, m=1.604, b=72.57, q=0.002254)"
   ]
  },
  {
   "cell_type": "markdown",
   "metadata": {},
   "source": [
    "# 2 Goodness of Fit, and using chi-squared.\n",
    "\n",
    "\n",
    "# 2.a\n",
    "\n",
    "Calculate the value of chi-squared for 1.a and 1.b.  Discuss what the value of chi-\n",
    "squared tells you about the goodness of fit in each case"
   ]
  },
  {
   "cell_type": "code",
   "execution_count": 12,
   "metadata": {
    "collapsed": true
   },
   "outputs": [],
   "source": [
    "def xi2(x, y, m, b, sigmay):\n",
    "    xi_2 = np.sum((y-(m*x)-b)**2.0/(sigmay**2.0))\n",
    "    return xi_2\n",
    "\n",
    "#def ML(x, y, m , b, sigmay):\n",
    "    \n"
   ]
  },
  {
   "cell_type": "code",
   "execution_count": 13,
   "metadata": {
    "collapsed": false
   },
   "outputs": [
    {
     "data": {
      "text/plain": [
       "18.691814000540401"
      ]
     },
     "execution_count": 13,
     "metadata": {},
     "output_type": "execute_result"
    }
   ],
   "source": [
    "xi2(X[4:], Y[4:], 2.23253621695, 34.8459413134, sigma_Y[4:])"
   ]
  },
  {
   "cell_type": "markdown",
   "metadata": {},
   "source": [
    "The value of chi-squared for $1a$ is:\n",
    "    \n",
    "$\\chi^2 = 18.58$"
   ]
  },
  {
   "cell_type": "code",
   "execution_count": 14,
   "metadata": {
    "collapsed": false
   },
   "outputs": [
    {
     "data": {
      "text/plain": [
       "289.96372278199942"
      ]
     },
     "execution_count": 14,
     "metadata": {},
     "output_type": "execute_result"
    }
   ],
   "source": [
    "xi2(X, Y, 1.07674752417, 213.273491976, sigma_Y)"
   ]
  },
  {
   "cell_type": "markdown",
   "metadata": {},
   "source": [
    "The value of chi-squared for $1b$ is:\n",
    "    \n",
    "$\\chi^2 = 289.96$"
   ]
  },
  {
   "cell_type": "markdown",
   "metadata": {},
   "source": [
    "**Discussion:**This two values basically tell me that the when we exclude the first\n",
    "$4$ values the fit to the line is much better. This is because this first 4 points\n",
    "are outliers of the data."
   ]
  },
  {
   "cell_type": "markdown",
   "metadata": {},
   "source": [
    "# 2b\n",
    "\n",
    "Estimate the standard uncertainty for the $1.a$ and $1.b$ data set by replacing the \n",
    "individual $\\sigma_y$ values with a common value, $S$, and calculating the minimum \n",
    "value for $S$ that allows a “good” chi-squared value. "
   ]
  },
  {
   "cell_type": "code",
   "execution_count": 75,
   "metadata": {
    "collapsed": false
   },
   "outputs": [
    {
     "name": "stdout",
     "output_type": "stream",
     "text": [
      "good S =  5.30359577345\n"
     ]
    },
    {
     "name": "stderr",
     "output_type": "stream",
     "text": [
      "/usr/local/lib/python3.4/dist-packages/ipykernel/__main__.py:2: RuntimeWarning: divide by zero encountered in true_divide\n",
      "  from ipykernel import kernelapp as app\n"
     ]
    }
   ],
   "source": [
    "S = np.linspace(0, 100, 1000)\n",
    "chi2_array = np.zeros(len(S))\n",
    "for i in range(len(S)):\n",
    "    chi2_array[i] = xi2(X[5:], Y[5:], 2.23253621695, 34.8459413134, S[i])\n",
    "\n",
    "index_min_chi2 = np.where(chi2_array >= 18.)[0]\n",
    "print('good S = ', np.sqrt(S[index_min_chi2[-1]]))"
   ]
  },
  {
   "cell_type": "markdown",
   "metadata": {},
   "source": [
    "A good value of $\\sigma_y$ is $5.30$ to get a $\\chi^2 <18$"
   ]
  },
  {
   "cell_type": "markdown",
   "metadata": {},
   "source": [
    "# 2c\n",
    "\n",
    "Create a contour or color image of the maximum likelihood for 1.a and 1b, that is:\n",
    "\n",
    "\\begin{equation}\n",
    "\\mathcal{L} = \\prod_i \\dfrac{1}{\\sqrt{2\\pi \\sigma_y^2}} e^{-(y_i-mx_i-b)^2/2\\sigma_y^2}\n",
    "\\end{equation}"
   ]
  },
  {
   "cell_type": "code",
   "execution_count": 78,
   "metadata": {
    "collapsed": false
   },
   "outputs": [],
   "source": [
    "N_grid = 100\n",
    "M = linspace(0, 3.2, N_grid)\n",
    "B = linspace(-100, 300, N_grid)\n",
    "xi2_min = np.zeros((N_grid,N_grid))\n",
    "xi2_min2 = np.zeros((N_grid,N_grid))\n",
    "\n",
    "for m in range(N_grid):\n",
    "    for b in range(N_grid):\n",
    "        xi2_min[b][m] = xi2(X[4:], Y[4:], M[m], B[b], sigma_Y[4:])\n",
    "        xi2_min2[b][m] = xi2(X, Y, M[m], B[b], sigma_Y)"
   ]
  },
  {
   "cell_type": "code",
   "execution_count": 82,
   "metadata": {
    "collapsed": false
   },
   "outputs": [
    {
     "data": {
      "text/plain": [
       "<matplotlib.text.Text at 0x7f5add1b45c0>"
      ]
     },
     "execution_count": 82,
     "metadata": {},
     "output_type": "execute_result"
    },
    {
     "data": {
      "image/png": "[encoded data removed]",
      "text/plain": [
       "<matplotlib.figure.Figure at 0x7f5add6e6588>"
      ]
     },
     "metadata": {},
     "output_type": "display_data"
    }
   ],
   "source": [
    "figsize(6,5)\n",
    "contourf(B, M, xi2_min.T, 20, cmap=cm.Greys_r)\n",
    "scatter(34.8459413134,2.23253621695, c='orange', marker='*', s=300)\n",
    "xlim(-100, 300)\n",
    "ylim(0, 3.2)\n",
    "xlabel('$b$', fontsize=25)\n",
    "ylabel('$m$', fontsize=25)\n",
    "title('$Excluding\\ the\\ first\\ 4\\ data\\ points$')"
   ]
  },
  {
   "cell_type": "code",
   "execution_count": 83,
   "metadata": {
    "collapsed": false
   },
   "outputs": [
    {
     "data": {
      "text/plain": [
       "<matplotlib.text.Text at 0x7f5add0bb8d0>"
      ]
     },
     "execution_count": 83,
     "metadata": {},
     "output_type": "execute_result"
    },
    {
     "data": {
      "image/png": "[encoded data removed]",
      "text/plain": [
       "<matplotlib.figure.Figure at 0x7f5adbf51ba8>"
      ]
     },
     "metadata": {},
     "output_type": "display_data"
    }
   ],
   "source": [
    "figsize(6,5)\n",
    "contourf(B, M, xi2_min2.T, 10, cmap=cm.Greys_r)\n",
    "scatter(213.3,1.07, c='orange', marker='*', s=300)\n",
    "xlim(-100, 300)\n",
    "ylim(0, 3.2)\n",
    "xlabel('$b$', fontsize=25)\n",
    "ylabel('$m$', fontsize=25)\n",
    "title('$All\\ the\\ data$')"
   ]
  },
  {
   "cell_type": "markdown",
   "metadata": {
    "collapsed": true
   },
   "source": [
    "# 3 Bayesian Analysis\n",
    "\n",
    "a.\n",
    "Assume that each point has a probability, $P_b$, that it is “bad”, and these bad points \n",
    "have a mean value $Y_b$, and variance, $V_b$.  This gives us five parameters, but we \n",
    "are really only interested in two: $m$ and $b$.  The new maximum likelihood is\n",
    "\n",
    "“Marginalize” the parameters $P_b$, $Y_b$, and, $V_b$ by the following prescription:\n",
    "\n",
    "1. For each value of $m$ and $b$, sum the  ML for:\n",
    "\n",
    "- $P_b$ from 0 to 1 (in increments of 0.1).\n",
    "\n",
    "- $V_b$ from 0 to  ~4000 ( in increments of 400)\n",
    "\n",
    "- $Y_b$ from 0 to 700 (in increments of 70)\n",
    "\n",
    "2. Find the maximum for $m$ and $b$ in the two-dimensional grid of $m$ and $b$ values \n",
    "calculated.\n",
    "\n",
    "iii. Refine your grid if necessary.\n",
    "Note that this calculation can take long periods of time. Define coarse grids to start with, \n",
    "to test, and refine the grid, rather than trying to  complete it all with one pass.\n",
    "\n"
   ]
  },
  {
   "cell_type": "code",
   "execution_count": 84,
   "metadata": {
    "collapsed": false
   },
   "outputs": [],
   "source": [
    "def ML2(x, y, sigmay, m, b, V, P, Yb):\n",
    "    exp1 = (1-P)/(np.sqrt(2.*np.pi*sigmay**2.0))*np.exp(-(y-(m*x)-b)**2.0/(2.0*sigmay**2.0))\n",
    "    exp2 = P/(np.sqrt(2.0*np.pi*(sigmay**2.0+V)))*np.exp(-(y-Yb)**2.0/(2.0*(sigmay**2.0+V)))\n",
    "    return np.prod(exp1+exp2)\n"
   ]
  },
  {
   "cell_type": "code",
   "execution_count": 39,
   "metadata": {
    "collapsed": false
   },
   "outputs": [],
   "source": [
    "def ML_errors(N_grid, N_grid2, x, y, sigmay):\n",
    "    M = linspace(1, 3.2, N_grid)\n",
    "    B = linspace(-100, 100, N_grid)\n",
    "\n",
    "    Pb = np.linspace(0, 1, N_grid2)\n",
    "    Vb = np.linspace(0, 4000, N_grid2)\n",
    "    Yb = np.linspace(0, 700, N_grid2)\n",
    "\n",
    "    ML = np.zeros((N_grid, N_grid))\n",
    "\n",
    "    for m in range(len(M)):\n",
    "        for b in range(len(B)):\n",
    "            ml_med = []\n",
    "            for pb in range(len(Pb)):\n",
    "                for vb in range(len(Vb)):\n",
    "                    for yb in range(len(Yb)):\n",
    "                        ml_med.append(ML2(x,y, sigmay, M[m], B[b], Vb[vb], Pb[pb], Yb[yb]))\n",
    "            ML[m][b] = np.sum(ml_med)\n",
    "    index_max = np.where(ML.T==np.max(ML.T))\n",
    "    best_B = B[index_max[0]]\n",
    "    best_M = M[index_max[1]]\n",
    "\n",
    "    return ML, best_B, best_M"
   ]
  },
  {
   "cell_type": "code",
   "execution_count": 31,
   "metadata": {
    "collapsed": false
   },
   "outputs": [],
   "source": [
    "ML_test, b_b, M_b =ML_errors(40, 11, X[4:], Y[4:], sigma_Y[4:])"
   ]
  },
  {
   "cell_type": "code",
   "execution_count": 33,
   "metadata": {
    "collapsed": false
   },
   "outputs": [
    {
     "name": "stdout",
     "output_type": "stream",
     "text": [
      "[ 33.33333333] [ 2.24102564]\n"
     ]
    }
   ],
   "source": [
    "print(b_b, M_b)"
   ]
  },
  {
   "cell_type": "code",
   "execution_count": 96,
   "metadata": {
    "collapsed": false
   },
   "outputs": [
    {
     "data": {
      "text/plain": [
       "<matplotlib.text.Text at 0x7f5adba7c320>"
      ]
     },
     "execution_count": 96,
     "metadata": {},
     "output_type": "execute_result"
    },
    {
     "data": {
      "image/png": "[encoded data removed]",
      "text/plain": [
       "<matplotlib.figure.Figure at 0x7f5add0f8550>"
      ]
     },
     "metadata": {},
     "output_type": "display_data"
    }
   ],
   "source": [
    "M = linspace(1, 3.2, 40)\n",
    "B = linspace(-100, 100, 40)\n",
    "contourf(B, M, ML_test, 15, cmap=cm.Greys)\n",
    "scatter(b_b, M_b, c='r', marker='*', s=100)\n",
    "text(-75, 2.8,'$b=33.3\\ m=2.24$')\n",
    "xlabel('$b$', fontsize=25)\n",
    "ylabel('$m$', fontsize=25)\n"
   ]
  },
  {
   "cell_type": "markdown",
   "metadata": {},
   "source": [
    "# 3b\n",
    "\n",
    "The values of the fits are very similar between 1.a and 3.a but the likelihood is greater\n",
    "in the case of the 3.a. The fit in 3.a is better because it takes into account the probability that this plots are 'bad' points, and they also take into account the errors in a more precise way."
   ]
  },
  {
   "cell_type": "markdown",
   "metadata": {},
   "source": [
    "# 4. Errors on the Parameters\n",
    "\n",
    "Use the bootstrap method to calculate the uncertainties on the parameters in $3.a$.  You \n",
    "can use the bootstrap.m function on the website to carry this out.   "
   ]
  },
  {
   "cell_type": "code",
   "execution_count": 197,
   "metadata": {
    "collapsed": false
   },
   "outputs": [],
   "source": [
    "def bootstraping(N_steps):\n",
    "    b_array = np.zeros(N_steps)\n",
    "    M_array = np.zeros(N_steps)\n",
    "    for i in range(N_steps):\n",
    "        indexes = random.randint(0, 20, 20)\n",
    "        ML_test, b_b, M_b =ML_errors(40, 11, X[indexes], Y[indexes], sigma_Y[indexes])\n",
    "        b_array[i] = b_b\n",
    "        M_array[i] = M_b\n",
    "    sigma_b = 1/N_steps * sum([(b_array[i]-np.mean(b_array))**2.0 for i in range(N_steps)])\n",
    "    sigma_M = 1/N_steps * sum([(M_array[i]-np.mean(M_array))**2.0 for i in range(N_steps)])\n",
    "\n",
    "    return sigma_b**0.5, sigma_M**0.5"
   ]
  },
  {
   "cell_type": "code",
   "execution_count": 212,
   "metadata": {
    "collapsed": false
   },
   "outputs": [],
   "source": [
    "sigma_b, sigma_m = bootstraping(10)"
   ]
  },
  {
   "cell_type": "code",
   "execution_count": 214,
   "metadata": {
    "collapsed": false
   },
   "outputs": [
    {
     "name": "stdout",
     "output_type": "stream",
     "text": [
      "25.1020271806 0.158049418449\n"
     ]
    }
   ],
   "source": [
    "print(sigma_b, sigma_m)"
   ]
  },
  {
   "cell_type": "markdown",
   "metadata": {},
   "source": [
    "Using the bootstraping method I get the following values for $\\sigma_b$ and $\\sigma_m$\n",
    "\n",
    "$\\sigma_b = 25.10$\n",
    "\n",
    "$\\sigma_m = 0.15$"
   ]
  },
  {
   "cell_type": "code",
   "execution_count": null,
   "metadata": {
    "collapsed": true
   },
   "outputs": [],
   "source": []
  }
 ],
 "metadata": {
  "kernelspec": {
   "display_name": "Python 3",
   "language": "python",
   "name": "python3"
  },
  "language_info": {
   "codemirror_mode": {
    "name": "ipython",
    "version": 3
   },
   "file_extension": ".py",
   "mimetype": "text/x-python",
   "name": "python",
   "nbconvert_exporter": "python",
   "pygments_lexer": "ipython3",
   "version": "3.4.3"
  }
 },
 "nbformat": 4,
 "nbformat_minor": 0
}
