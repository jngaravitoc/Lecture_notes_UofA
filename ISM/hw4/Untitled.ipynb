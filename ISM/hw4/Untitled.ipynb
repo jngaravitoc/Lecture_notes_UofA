{
 "cells": [
  {
   "cell_type": "code",
   "execution_count": 2,
   "metadata": {
    "collapsed": false
   },
   "outputs": [
    {
     "name": "stdout",
     "output_type": "stream",
     "text": [
      "Populating the interactive namespace from numpy and matplotlib\n"
     ]
    },
    {
     "name": "stderr",
     "output_type": "stream",
     "text": [
      "/usr/local/lib/python2.7/dist-packages/IPython/kernel/__init__.py:13: ShimWarning: The `IPython.kernel` package has been deprecated. You should import from ipykernel or jupyter_client instead.\n",
      "  \"You should import from ipykernel or jupyter_client instead.\", ShimWarning)\n"
     ]
    }
   ],
   "source": [
    "%pylab inline\n",
    "from astropy import constants\n",
    "from astropy import units"
   ]
  },
  {
   "cell_type": "markdown",
   "metadata": {},
   "source": [
    "# 3"
   ]
  },
  {
   "cell_type": "code",
   "execution_count": 35,
   "metadata": {
    "collapsed": false
   },
   "outputs": [
    {
     "data": {
      "text/plain": [
       "0.99224951610886336"
      ]
     },
     "execution_count": 35,
     "metadata": {},
     "output_type": "execute_result"
    }
   ],
   "source": [
    "1 - exp(-4.86)"
   ]
  },
  {
   "cell_type": "code",
   "execution_count": 49,
   "metadata": {
    "collapsed": false
   },
   "outputs": [],
   "source": [
    "def Tex(nu, Tbg, Tr, tau):\n",
    "    nu = nu * units.GHz\n",
    "    nu = nu.to(1/units.s)\n",
    "    Tbg =  Tbg * units.K\n",
    "    Tr = Tr * units.K\n",
    "    h = constants.h\n",
    "    Kb = constants.k_B\n",
    "    T_ex = h*nu / Kb * 1 / log( h * nu / Kb *  1 / (Tr  + h*nu/Kb * ( 1 / (exp(h*nu/(Kb*Tbg)) - 1 )) ) )\n",
    "    return T_ex"
   ]
  },
  {
   "cell_type": "code",
   "execution_count": 48,
   "metadata": {
    "collapsed": false
   },
   "outputs": [
    {
     "data": {
      "text/latex": [
       "$10.831331 \\; \\mathrm{K}$"
      ],
      "text/plain": [
       "<Quantity 10.831330713323817 K>"
      ]
     },
     "execution_count": 48,
     "metadata": {},
     "output_type": "execute_result"
    }
   ],
   "source": [
    "Tex(97.98, 2.76, 2 ,4.86)"
   ]
  },
  {
   "cell_type": "code",
   "execution_count": 90,
   "metadata": {
    "collapsed": false
   },
   "outputs": [],
   "source": [
    "def N_tot_thin(Tex, nu, Tbg, Tr):\n",
    "    nu = nu * units.GHz\n",
    "    nu = nu.to(1/units.s)\n",
    "    Tbg =  Tbg * units.K\n",
    "    Tr = Tr * units.K\n",
    "    h = constants.h\n",
    "    Kb = constants.k_B\n",
    "    c = constants.c\n",
    "    A = 1.714E-5\n",
    "    Eu = h * nu\n",
    "    #print Eu\n",
    "    Tex =  Tex * units.K\n",
    "    Q = 8.316 # See http://spec.jpl.nasa.gov/ftp/pub/catalog/doc/d044001.pdf\n",
    "    g = 5 # See Yansey's paper\n",
    "    Bv_tex = 2 * h * nu**3 / c**2.0 * 1.0 / (exp(h*nu/(Kb*Tex)) - 1.0)\n",
    "    print Bv_tex\n",
    "    #print Bv_tex\n",
    "    Jv_tex = h * nu / Kb * 1 / (exp(h*nu/(Kb*Tex)) - 1 )\n",
    "    Jv_tbg = h * nu / Kb * 1 / (exp(h*nu/(Kb*Tbg)) - 1 )\n",
    "    #print (Jv_tex - Jv_tbg) * g * A * h * c\n",
    "    Ntot = 4 * pi / (h * c) * Q * exp(Eu / (Kb * Tex)) / (g * A) * Bv_tex / (Jv_tex - Jv_tbg) * 0.5 \n",
    "    return Ntot"
   ]
  },
  {
   "cell_type": "code",
   "execution_count": 93,
   "metadata": {
    "collapsed": false
   },
   "outputs": [
    {
     "name": "stdout",
     "output_type": "stream",
     "text": [
      "2.55094523562e-17 J / m2\n"
     ]
    },
    {
     "data": {
      "text/latex": [
       "$1.5899022 \\times 10^{13} \\; \\mathrm{\\frac{1}{K\\,m^{3}}}$"
      ],
      "text/plain": [
       "<Quantity 15899021679620.564 1 / (K m3)>"
      ]
     },
     "execution_count": 93,
     "metadata": {},
     "output_type": "execute_result"
    }
   ],
   "source": [
    "N_tot_thin(10.83, 97.982, 2.76, 2 )"
   ]
  },
  {
   "cell_type": "markdown",
   "metadata": {},
   "source": [
    "# 5 "
   ]
  },
  {
   "cell_type": "code",
   "execution_count": 2,
   "metadata": {
    "collapsed": true
   },
   "outputs": [],
   "source": [
    "N = np.array([1E2, 5E2, 1E3, 5E3, 1E4, 5E4, 1E5, 5E5, 1E6, 5E6, 1E7, 5E7, 1E8])\n",
    "Tex_1 = np.array([1.313, 0.778, 0.689, 0.640, 0.668, 0.952, 1.339, 7.306, 20.028, 23.647, 21.915, 20.417, 20.211])\n",
    "Tex_2 = np.array([2.736, 2.769, 2.790, 3.013, 3.265, 4.841, 6.408, 14.724, 18.802, 20.490, 20.289, 20.064, 20.032])"
   ]
  },
  {
   "cell_type": "code",
   "execution_count": 6,
   "metadata": {
    "collapsed": false
   },
   "outputs": [
    {
     "data": {
      "text/plain": [
       "[<matplotlib.lines.Line2D at 0x7fb66a551e50>]"
      ]
     },
     "execution_count": 6,
     "metadata": {},
     "output_type": "execute_result"
    },
    {
     "data": {
      "image/png": "[encoded data removed]",
      "text/plain": [
       "<matplotlib.figure.Figure at 0x7fb66a551950>"
      ]
     },
     "metadata": {},
     "output_type": "display_data"
    }
   ],
   "source": [
    "plot(log10(N), Tex_1)\n",
    "plot(log10(N), Tex_2)"
   ]
  },
  {
   "cell_type": "code",
   "execution_count": null,
   "metadata": {
    "collapsed": true
   },
   "outputs": [],
   "source": []
  }
 ],
 "metadata": {
  "kernelspec": {
   "display_name": "Python 2",
   "language": "python",
   "name": "python2"
  },
  "language_info": {
   "codemirror_mode": {
    "name": "ipython",
    "version": 2
   },
   "file_extension": ".py",
   "mimetype": "text/x-python",
   "name": "python",
   "nbconvert_exporter": "python",
   "pygments_lexer": "ipython2",
   "version": "2.7.6"
  }
 },
 "nbformat": 4,
 "nbformat_minor": 0
}
