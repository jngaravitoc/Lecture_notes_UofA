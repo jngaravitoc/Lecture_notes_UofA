{
 "cells": [
  {
   "cell_type": "code",
   "execution_count": 3,
   "metadata": {
    "collapsed": false
   },
   "outputs": [
    {
     "name": "stdout",
     "output_type": "stream",
     "text": [
      "Populating the interactive namespace from numpy and matplotlib\n"
     ]
    },
    {
     "name": "stderr",
     "output_type": "stream",
     "text": [
      "/usr/local/lib/python2.7/dist-packages/IPython/kernel/__init__.py:13: ShimWarning: The `IPython.kernel` package has been deprecated. You should import from ipykernel or jupyter_client instead.\n",
      "  \"You should import from ipykernel or jupyter_client instead.\", ShimWarning)\n"
     ]
    }
   ],
   "source": [
    "%pylab inline\n",
    "from astropy import constants, units"
   ]
  },
  {
   "cell_type": "code",
   "execution_count": 4,
   "metadata": {
    "collapsed": true
   },
   "outputs": [],
   "source": [
    "#2 "
   ]
  },
  {
   "cell_type": "code",
   "execution_count": 30,
   "metadata": {
    "collapsed": false
   },
   "outputs": [
    {
     "name": "stdout",
     "output_type": "stream",
     "text": [
      "5.97219e+25\n"
     ]
    }
   ],
   "source": [
    "gamma = 5/3.0\n",
    "m_clump = 10 * (5.97219E24)\n",
    "print m_clump\n",
    "proton_m = constants.m_p\n",
    "#print proton_m"
   ]
  },
  {
   "cell_type": "code",
   "execution_count": 28,
   "metadata": {
    "collapsed": true
   },
   "outputs": [],
   "source": [
    "def Mach(v, gamma, T, m):\n",
    "    kb = constants.k_B\n",
    "    #m = m * units.Msun\n",
    "    T = T * units.K\n",
    "    v = v * units.km / units.s\n",
    "    M = v / (gamma * kb * T/ m)**(1/2.0)\n",
    "    M = M.to(1)\n",
    "    return M"
   ]
  },
  {
   "cell_type": "code",
   "execution_count": 32,
   "metadata": {
    "collapsed": false
   },
   "outputs": [
    {
     "data": {
      "text/latex": [
       "$36.171718 \\; \\mathrm{}$"
      ],
      "text/plain": [
       "<Quantity 36.17171841073047>"
      ]
     },
     "execution_count": 32,
     "metadata": {},
     "output_type": "execute_result"
    }
   ],
   "source": [
    "Mach(300, gamma, 5000, proton_m)"
   ]
  },
  {
   "cell_type": "code",
   "execution_count": 22,
   "metadata": {
    "collapsed": false
   },
   "outputs": [
    {
     "name": "stdout",
     "output_type": "stream",
     "text": [
      "  Name   = Boltzmann constant\n",
      "  Value  = 1.3806488e-23\n",
      "  Error  = 1.3e-29\n",
      "  Units  = J / K\n",
      "  Reference = CODATA 2010\n"
     ]
    }
   ],
   "source": [
    "print constants.k_B"
   ]
  },
  {
   "cell_type": "code",
   "execution_count": 33,
   "metadata": {
    "collapsed": true
   },
   "outputs": [],
   "source": [
    "def rho(gamma, M):\n",
    "    return (gamma + 1) * M**2 / (2 + (gamma-1)*M**2)\n",
    "    "
   ]
  },
  {
   "cell_type": "code",
   "execution_count": 38,
   "metadata": {
    "collapsed": false
   },
   "outputs": [
    {
     "data": {
      "text/plain": [
       "2.4971368994942544"
      ]
     },
     "execution_count": 38,
     "metadata": {},
     "output_type": "execute_result"
    }
   ],
   "source": [
    "rho(7/3.0, 36.17)"
   ]
  },
  {
   "cell_type": "code",
   "execution_count": 39,
   "metadata": {
    "collapsed": true
   },
   "outputs": [],
   "source": [
    "#4 Line ratios\n",
    "kb = constants.k_B\n"
   ]
  },
  {
   "cell_type": "code",
   "execution_count": 48,
   "metadata": {
    "collapsed": true
   },
   "outputs": [],
   "source": [
    "def lown(E21, E20, O20, O10):\n",
    "    E21 = E21 * units.eV\n",
    "    E20 = E20 * units.eV\n",
    "    E21 = E21.to(units.J)\n",
    "    E20 = E20.to(units.J)\n",
    "    T = 10000 * units.K\n",
    "    line_ratio = O20 * exp(-E21/(kb*T)) / (O10 + O20 * exp(-E21 / kb / T)) * E21 / E20\n",
    "    return line_ratio"
   ]
  },
  {
   "cell_type": "code",
   "execution_count": 49,
   "metadata": {
    "collapsed": false
   },
   "outputs": [
    {
     "data": {
      "text/latex": [
       "$0.21706781 \\; \\mathrm{}$"
      ],
      "text/plain": [
       "<Quantity 0.21706780938472234>"
      ]
     },
     "execution_count": 49,
     "metadata": {},
     "output_type": "execute_result"
    }
   ],
   "source": [
    "lown(0.024, 0.038, 0.21, 0.39)"
   ]
  },
  {
   "cell_type": "code",
   "execution_count": 50,
   "metadata": {
    "collapsed": true
   },
   "outputs": [],
   "source": [
    "def highn(g2, g1, A21, A10, E21, E10):\n",
    "    return g2*A21*E21/(g1*A10*E10)"
   ]
  },
  {
   "cell_type": "code",
   "execution_count": 54,
   "metadata": {
    "collapsed": false
   },
   "outputs": [
    {
     "data": {
      "text/plain": [
       "10.769230769230768"
      ]
     },
     "execution_count": 54,
     "metadata": {},
     "output_type": "execute_result"
    }
   ],
   "source": [
    "highn(5, 3, 9.8E-5, 2.6E-5, 0.024, 0.014)"
   ]
  },
  {
   "cell_type": "code",
   "execution_count": null,
   "metadata": {
    "collapsed": true
   },
   "outputs": [],
   "source": []
  }
 ],
 "metadata": {
  "kernelspec": {
   "display_name": "Python 2",
   "language": "python",
   "name": "python2"
  },
  "language_info": {
   "codemirror_mode": {
    "name": "ipython",
    "version": 2
   },
   "file_extension": ".py",
   "mimetype": "text/x-python",
   "name": "python",
   "nbconvert_exporter": "python",
   "pygments_lexer": "ipython2",
   "version": "2.7.6"
  }
 },
 "nbformat": 4,
 "nbformat_minor": 0
}
