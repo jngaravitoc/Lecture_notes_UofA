{
 "cells": [
  {
   "cell_type": "code",
   "execution_count": 1,
   "metadata": {
    "collapsed": false
   },
   "outputs": [
    {
     "name": "stdout",
     "output_type": "stream",
     "text": [
      "Populating the interactive namespace from numpy and matplotlib\n"
     ]
    },
    {
     "name": "stderr",
     "output_type": "stream",
     "text": [
      "/usr/local/lib/python2.7/dist-packages/IPython/kernel/__init__.py:13: ShimWarning: The `IPython.kernel` package has been deprecated. You should import from ipykernel or jupyter_client instead.\n",
      "  \"You should import from ipykernel or jupyter_client instead.\", ShimWarning)\n"
     ]
    }
   ],
   "source": [
    "%pylab inline\n",
    "from astropy import constants\n",
    "from astropy import units\n",
    "font = {'size':15, 'family':'serif'}\n",
    "matplotlib.rc('font', **font)\n",
    "from scipy.special import erf"
   ]
  },
  {
   "cell_type": "markdown",
   "metadata": {},
   "source": [
    "# 3"
   ]
  },
  {
   "cell_type": "code",
   "execution_count": 54,
   "metadata": {
    "collapsed": false
   },
   "outputs": [
    {
     "name": "stdout",
     "output_type": "stream",
     "text": [
      "  Name   = Speed of light in vacuum\n",
      "  Value  = 299792458.0\n",
      "  Error  = 0.0\n",
      "  Units  = m / s\n",
      "  Reference = CODATA 2010   Name   = Boltzmann constant\n",
      "  Value  = 1.3806488e-23\n",
      "  Error  = 1.3e-29\n",
      "  Units  = J / K\n",
      "  Reference = CODATA 2010   Name   = Electron mass\n",
      "  Value  = 9.10938291e-31\n",
      "  Error  = 4e-38\n",
      "  Units  = kg\n",
      "  Reference = CODATA 2010\n"
     ]
    }
   ],
   "source": [
    "kb = constants.k_B\n",
    "m = constants.m_p\n",
    "Kb = kb.to(units.erg / units.K )\n",
    "me = constants.m_e\n",
    "c = constants.c\n",
    "h = constants.h\n",
    "print c, kb, me"
   ]
  },
  {
   "cell_type": "code",
   "execution_count": 4,
   "metadata": {
    "collapsed": true
   },
   "outputs": [],
   "source": [
    "def vdistribution(v):\n",
    "    T = 6000.0\n",
    "    factor = (m / (2*np.pi*kb*T))**(3/2.0)\n",
    "    f = factor * 4*np.pi * v**2 * np.exp(-m.value*v**2/(2*kb.value*T))\n",
    "    return f"
   ]
  },
  {
   "cell_type": "code",
   "execution_count": 7,
   "metadata": {
    "collapsed": false,
    "scrolled": true
   },
   "outputs": [
    {
     "data": {
      "image/png": "[encoded data removed]",
      "text/plain": [
       "<matplotlib.figure.Figure at 0x7f63cea22c90>"
      ]
     },
     "metadata": {},
     "output_type": "display_data"
    }
   ],
   "source": [
    "v = np.linspace(0, 40000, 100)\n",
    "T = 6000.0\n",
    "figure(figsize=(7, 5))\n",
    "a = np.sqrt(kb * T / m)\n",
    "speed = 2*a.value*np.sqrt(2/np.pi)\n",
    "axvline(speed, c='k', label='$<v>=11230.22 m/s$')\n",
    "plot(v, vdistribution(v)*1E38, lw=2)\n",
    "legend()\n",
    "gca().get_xaxis().get_major_formatter().set_powerlimits((0, 0))\n",
    "xlabel('$v(m/s)$', fontsize=25)\n",
    "ylabel('$N\\ of\\ atoms\\ per\\ speed\\  $', fontsize=25)\n",
    "savefig('mbv.png', bbox_inches='tight')"
   ]
  },
  {
   "cell_type": "code",
   "execution_count": 9,
   "metadata": {
    "collapsed": false
   },
   "outputs": [
    {
     "name": "stdout",
     "output_type": "stream",
     "text": [
      "9.05081374286e+35 K(3/2) kg(3/2) / J(3/2)\n",
      "11230.2239983\n"
     ]
    }
   ],
   "source": [
    "speed1p = linspace(speed*0.99, speed*1.01, 112)\n",
    "Natoms1 = vdistribution(speed1p)*1E38\n",
    "print sum(Natoms1)\n",
    "print speed"
   ]
  },
  {
   "cell_type": "code",
   "execution_count": 46,
   "metadata": {
    "collapsed": true
   },
   "outputs": [],
   "source": [
    "def Natoms(x):\n",
    "    a = np.sqrt(kb * T / m)\n",
    "    mu = 2*a * np.sqrt(2/np.pi)\n",
    "    N = ( erf(x * 2 * 1.01 / (np.sqrt(np.pi))) - ( 4/np.pi) * 1.01 *x   * exp(-1.01*4*x / (np.pi)) ) -  ( erf(x*2*0.99 / (np.sqrt(np.pi))) - (4/np.pi) * 0.99   *x * exp(-0.99*4 *x / (np.pi)) ) \n",
    "    return N*1E38"
   ]
  },
  {
   "cell_type": "code",
   "execution_count": 53,
   "metadata": {
    "collapsed": false
   },
   "outputs": [
    {
     "data": {
      "text/plain": [
       "1.3996465027631095"
      ]
     },
     "execution_count": 53,
     "metadata": {},
     "output_type": "execute_result"
    }
   ],
   "source": [
    "Natoms(1)/Natoms(2)"
   ]
  },
  {
   "cell_type": "code",
   "execution_count": 12,
   "metadata": {
    "collapsed": true
   },
   "outputs": [],
   "source": [
    "def doppler(v):\n",
    "    v = v * units.m / units.s\n",
    "    f = (1 + v/c)\n",
    "    return f"
   ]
  },
  {
   "cell_type": "code",
   "execution_count": 13,
   "metadata": {
    "collapsed": false
   },
   "outputs": [
    {
     "name": "stdout",
     "output_type": "stream",
     "text": [
      "1.00003745925\n"
     ]
    }
   ],
   "source": [
    "d1 = doppler(11230)\n",
    "print d1"
   ]
  },
  {
   "cell_type": "code",
   "execution_count": 14,
   "metadata": {
    "collapsed": false
   },
   "outputs": [],
   "source": [
    "def velocity(doppler):\n",
    "    v = (doppler - 1)*c\n",
    "    return v"
   ]
  },
  {
   "cell_type": "code",
   "execution_count": 15,
   "metadata": {
    "collapsed": false
   },
   "outputs": [
    {
     "data": {
      "text/latex": [
       "$22460 \\; \\mathrm{\\frac{m}{s}}$"
      ],
      "text/plain": [
       "<Quantity 22459.99999995049 m / s>"
      ]
     },
     "execution_count": 15,
     "metadata": {},
     "output_type": "execute_result"
    }
   ],
   "source": [
    "velocity(1 + (2*(d1-1)))"
   ]
  },
  {
   "cell_type": "markdown",
   "metadata": {
    "collapsed": true
   },
   "source": [
    "# 4"
   ]
  },
  {
   "cell_type": "code",
   "execution_count": 16,
   "metadata": {
    "collapsed": true
   },
   "outputs": [],
   "source": [
    "def nu(L):\n",
    "    L = L.to(units.m)\n",
    "    nu = c / L\n",
    "    return nu"
   ]
  },
  {
   "cell_type": "code",
   "execution_count": 17,
   "metadata": {
    "collapsed": false
   },
   "outputs": [
    {
     "name": "stdout",
     "output_type": "stream",
     "text": [
      "2.99792458e+11 1 / s 299792458.0 1 / s\n"
     ]
    }
   ],
   "source": [
    "Lmin = 1 * units.mm\n",
    "Lmax = 100 * units.cm\n",
    "print nu(Lmin), nu(Lmax) \n"
   ]
  },
  {
   "cell_type": "code",
   "execution_count": 18,
   "metadata": {
    "collapsed": false
   },
   "outputs": [
    {
     "name": "stdout",
     "output_type": "stream",
     "text": [
      "1.98644568327e-22 J\n"
     ]
    }
   ],
   "source": [
    "hv = h * nu(Lmin)\n",
    "print hv"
   ]
  },
  {
   "cell_type": "code",
   "execution_count": 19,
   "metadata": {
    "collapsed": false
   },
   "outputs": [
    {
     "data": {
      "text/latex": [
       "$1.9743278 \\times 10^{-22} \\; \\mathrm{J}$"
      ],
      "text/plain": [
       "<Quantity 1.974327784e-22 J>"
      ]
     },
     "execution_count": 19,
     "metadata": {},
     "output_type": "execute_result"
    }
   ],
   "source": [
    "T = 14.3 * units.K\n",
    "kb * T\n",
    "#print constants.e"
   ]
  },
  {
   "cell_type": "code",
   "execution_count": 20,
   "metadata": {
    "collapsed": false
   },
   "outputs": [],
   "source": [
    "def gaunt_factor(nu):\n",
    "    gamma = 0.5772\n",
    "    T = 1E4 * units.K\n",
    "    nu = nu * units.Hz\n",
    "    me = constants.m_e\n",
    "    e = 4.8E-10 * units.Fr\n",
    "    e = e.to(units.kg**(1/2.0) * units.m**(3/2.0) / (units.s))\n",
    "    g = np.sqrt(3 ) / (2*np.pi) * (  log(8*kb**3 * T**3 / (np.pi**2 * e**4 * me* nu**2) )  - 5*gamma )\n",
    "    return  g\n",
    "    "
   ]
  },
  {
   "cell_type": "code",
   "execution_count": 21,
   "metadata": {
    "collapsed": false
   },
   "outputs": [
    {
     "data": {
      "text/latex": [
       "$5.9609859 \\; \\mathrm{}$"
      ],
      "text/plain": [
       "<Quantity 5.960985943691944>"
      ]
     },
     "execution_count": 21,
     "metadata": {},
     "output_type": "execute_result"
    }
   ],
   "source": [
    "gaunt_factor(1E9)"
   ]
  },
  {
   "cell_type": "code",
   "execution_count": 22,
   "metadata": {
    "collapsed": false
   },
   "outputs": [],
   "source": [
    "e = 4.8E-10 * units.Fr"
   ]
  },
  {
   "cell_type": "code",
   "execution_count": 23,
   "metadata": {
    "collapsed": true
   },
   "outputs": [],
   "source": [
    "def Tempe(flux, nu):\n",
    "    nu = nu * units.MHz\n",
    "    flux = flux * units.Jansky\n",
    "    Rsr = 0.6/500.0\n",
    "    T = flux * c**2 / ( nu**2 * 2.0 * pi * kb  * Rsr**2)\n",
    "    T = T.to(units.K)\n",
    "    return T"
   ]
  },
  {
   "cell_type": "code",
   "execution_count": 24,
   "metadata": {
    "collapsed": false
   },
   "outputs": [
    {
     "data": {
      "text/latex": [
       "$35973.76 \\; \\mathrm{K}$"
      ],
      "text/plain": [
       "<Quantity 35973.75975554946 K>"
      ]
     },
     "execution_count": 24,
     "metadata": {},
     "output_type": "execute_result"
    }
   ],
   "source": [
    "Tempe(50, 100)"
   ]
  },
  {
   "cell_type": "code",
   "execution_count": 25,
   "metadata": {
    "collapsed": false
   },
   "outputs": [],
   "source": [
    "def Cfactor():\n",
    "    e = 4.8E-10 * units.Fr\n",
    "    e = e.to(units.kg**(1/2.0) * units.m**(3/2.0) / (units.s))\n",
    "    C = (2 * me / (3*pi*kb) )**(1/2.0) * (4.0*pi*e**6 / (3.0*me**2*c*kb))\n",
    "    return C"
   ]
  },
  {
   "cell_type": "code",
   "execution_count": 26,
   "metadata": {
    "collapsed": true
   },
   "outputs": [],
   "source": [
    "def EM(flux, nu, T):\n",
    "    T = T* units.K\n",
    "    C = Cfactor()\n",
    "    nu = nu * units.MHz\n",
    "    flux = flux * units.Jansky\n",
    "    Rsr = 0.6/500.0\n",
    "    EM = flux * c**2 / (2.0 * pi * kb * Rsr**2 * T**(-1/2.0) *  gaunt_factor(nu.value*1E6)*C)\n",
    "    EM = EM.to(1/ ( units.m**5))\n",
    "    return EM"
   ]
  },
  {
   "cell_type": "code",
   "execution_count": 27,
   "metadata": {
    "collapsed": false
   },
   "outputs": [
    {
     "name": "stdout",
     "output_type": "stream",
     "text": [
      "4.94583608185e+34 1 / m5\n",
      "1155.72355198 1 / cm3\n"
     ]
    }
   ],
   "source": [
    "em = EM(300, 1E4,36000)\n",
    "print em\n",
    "r = 0.6 * units.pc\n",
    "n = em / (2*  r)\n",
    "n = n.to(1/units.cm**6)\n",
    "print sqrt(n)"
   ]
  },
  {
   "cell_type": "code",
   "execution_count": 39,
   "metadata": {
    "collapsed": false
   },
   "outputs": [
    {
     "name": "stdout",
     "output_type": "stream",
     "text": [
      "4.8e-10 Fr\n"
     ]
    }
   ],
   "source": [
    "e = 4.8E-10 * units.Fr\n",
    "print e"
   ]
  },
  {
   "cell_type": "code",
   "execution_count": 41,
   "metadata": {
    "collapsed": false
   },
   "outputs": [],
   "source": [
    "C = Cfactor()"
   ]
  },
  {
   "cell_type": "code",
   "execution_count": 43,
   "metadata": {
    "collapsed": false
   },
   "outputs": [
    {
     "data": {
      "text/latex": [
       "$1.7649666 \\times 10^{-12} \\; \\mathrm{\\frac{m^{8}\\,K^{3/2}\\,kg^{3/2}}{J^{3/2}\\,s^{5}}}$"
      ],
      "text/plain": [
       "<Quantity 1.7649666284538246e-12 K(3/2) kg(3/2) m8 / (J(3/2) s5)>"
      ]
     },
     "execution_count": 43,
     "metadata": {},
     "output_type": "execute_result"
    }
   ],
   "source": [
    "C"
   ]
  },
  {
   "cell_type": "code",
   "execution_count": 60,
   "metadata": {
    "collapsed": false
   },
   "outputs": [
    {
     "name": "stdout",
     "output_type": "stream",
     "text": [
      "0.696973347924 pc\n"
     ]
    }
   ],
   "source": [
    "Nu = 5E49 * units.Hz\n",
    "alpha = 3E-13 * units.cm**3 / units.s\n",
    "n0 = 2000 / units.cm**3\n",
    "Strom_radius = (3*Nu / (4*pi*alpha*n0**2))**(1/3.0)\n",
    "Strom_radius = Strom_radius.to(units.pc)\n",
    "print Strom_radius"
   ]
  },
  {
   "cell_type": "code",
   "execution_count": null,
   "metadata": {
    "collapsed": true
   },
   "outputs": [],
   "source": []
  },
  {
   "cell_type": "code",
   "execution_count": null,
   "metadata": {
    "collapsed": true
   },
   "outputs": [],
   "source": []
  }
 ],
 "metadata": {
  "kernelspec": {
   "display_name": "Python 2",
   "language": "python",
   "name": "python2"
  },
  "language_info": {
   "codemirror_mode": {
    "name": "ipython",
    "version": 2
   },
   "file_extension": ".py",
   "mimetype": "text/x-python",
   "name": "python",
   "nbconvert_exporter": "python",
   "pygments_lexer": "ipython2",
   "version": "2.7.6"
  }
 },
 "nbformat": 4,
 "nbformat_minor": 0
}
