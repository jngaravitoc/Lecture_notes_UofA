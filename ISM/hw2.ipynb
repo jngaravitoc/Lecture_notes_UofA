{
 "cells": [
  {
   "cell_type": "code",
   "execution_count": 3,
   "metadata": {
    "collapsed": false
   },
   "outputs": [
    {
     "name": "stdout",
     "output_type": "stream",
     "text": [
      "Populating the interactive namespace from numpy and matplotlib\n"
     ]
    }
   ],
   "source": [
    "%pylab inline\n",
    "from astropy import constants"
   ]
  },
  {
   "cell_type": "code",
   "execution_count": 31,
   "metadata": {
    "collapsed": false
   },
   "outputs": [
    {
     "name": "stdout",
     "output_type": "stream",
     "text": [
      "  Name   = Boltzmann constant\n",
      "  Value  = 1.3806488e-23\n",
      "  Error  = 1.3e-29\n",
      "  Units  = J / K\n",
      "  Reference = CODATA 2010   Name   = Proton mass\n",
      "  Value  = 1.672621777e-27\n",
      "  Error  = 7.4e-35\n",
      "  Units  = kg\n",
      "  Reference = CODATA 2010\n"
     ]
    }
   ],
   "source": [
    "kb = constants.k_B\n",
    "m = constants.m_p\n",
    "Kb = kb.to(units.erg / units.K )\n",
    "print kb, m"
   ]
  },
  {
   "cell_type": "code",
   "execution_count": 18,
   "metadata": {
    "collapsed": true
   },
   "outputs": [],
   "source": [
    "def vdistribution(v):\n",
    "    T = 6000.0\n",
    "    factor = (m / (2*np.pi*kb*T))**(3/2.0)\n",
    "    f = factor * 4*np.pi * v**2 * np.exp(-m.value*v**2/(2*kb.value*T))\n",
    "    return f"
   ]
  },
  {
   "cell_type": "code",
   "execution_count": 34,
   "metadata": {
    "collapsed": false,
    "scrolled": true
   },
   "outputs": [
    {
     "data": {
      "text/plain": [
       "[<matplotlib.lines.Line2D at 0x7f30efb26510>]"
      ]
     },
     "execution_count": 34,
     "metadata": {},
     "output_type": "execute_result"
    },
    {
     "data": {
      "image/png": "[encoded data removed]",
      "text/plain": [
       "<matplotlib.figure.Figure at 0x7f30efef2410>"
      ]
     },
     "metadata": {},
     "output_type": "display_data"
    }
   ],
   "source": [
    "v = np.linspace(0, 40000, 100)\n",
    "T = 6000.0\n",
    "a = np.sqrt(kb * T / m)\n",
    "speed = 2*a.value*np.sqrt(2/np.pi)\n",
    "axvline(speed)\n",
    "plot(v, vdistribution(v)*1E38)"
   ]
  },
  {
   "cell_type": "code",
   "execution_count": 36,
   "metadata": {
    "collapsed": false
   },
   "outputs": [
    {
     "name": "stdout",
     "output_type": "stream",
     "text": [
      "112.302239983\n"
     ]
    }
   ],
   "source": [
    "print speed * 0.01"
   ]
  },
  {
   "cell_type": "code",
   "execution_count": null,
   "metadata": {
    "collapsed": true
   },
   "outputs": [],
   "source": []
  }
 ],
 "metadata": {
  "kernelspec": {
   "display_name": "Python 2",
   "language": "python",
   "name": "python2"
  },
  "language_info": {
   "codemirror_mode": {
    "name": "ipython",
    "version": 2
   },
   "file_extension": ".py",
   "mimetype": "text/x-python",
   "name": "python",
   "nbconvert_exporter": "python",
   "pygments_lexer": "ipython2",
   "version": "2.7.6"
  }
 },
 "nbformat": 4,
 "nbformat_minor": 0
}
