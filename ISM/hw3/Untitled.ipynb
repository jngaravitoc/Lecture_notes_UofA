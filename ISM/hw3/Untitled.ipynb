{
 "cells": [
  {
   "cell_type": "code",
   "execution_count": 8,
   "metadata": {
    "collapsed": false
   },
   "outputs": [
    {
     "name": "stdout",
     "output_type": "stream",
     "text": [
      "Populating the interactive namespace from numpy and matplotlib\n"
     ]
    },
    {
     "name": "stderr",
     "output_type": "stream",
     "text": [
      "WARNING: pylab import has clobbered these variables: ['e']\n",
      "`%matplotlib` prevents importing * from pylab and numpy\n"
     ]
    }
   ],
   "source": [
    "%pylab inline\n",
    "from astropy import units\n",
    "from astropy import constants"
   ]
  },
  {
   "cell_type": "code",
   "execution_count": 125,
   "metadata": {
    "collapsed": true
   },
   "outputs": [],
   "source": [
    "c = constants.c\n",
    "mp = constants.m_p\n",
    "Kb = constants.k_B\n",
    "e = constants.e\n",
    "me = constants.m_e"
   ]
  },
  {
   "cell_type": "code",
   "execution_count": 126,
   "metadata": {
    "collapsed": false
   },
   "outputs": [
    {
     "data": {
      "text/latex": [
       "$306601.39 \\; \\mathrm{\\frac{kpc}{Gyr}}$"
      ],
      "text/plain": [
       "<Quantity 306601.39378795266 kpc / Gyr>"
      ]
     },
     "execution_count": 126,
     "metadata": {},
     "output_type": "execute_result"
    }
   ],
   "source": [
    "c = c.to(units.kpc / units.Gyr)\n",
    "c"
   ]
  },
  {
   "cell_type": "code",
   "execution_count": 127,
   "metadata": {
    "collapsed": false
   },
   "outputs": [
    {
     "data": {
      "text/plain": [
       "3.0856775814671916e+16"
      ]
     },
     "execution_count": 127,
     "metadata": {},
     "output_type": "execute_result"
    }
   ],
   "source": [
    "units.pc.to(units.m)"
   ]
  },
  {
   "cell_type": "code",
   "execution_count": 128,
   "metadata": {
    "collapsed": false
   },
   "outputs": [],
   "source": [
    "T = c**2 * mp / (30 * Kb)\n",
    "T = T.to(units.K)"
   ]
  },
  {
   "cell_type": "code",
   "execution_count": 129,
   "metadata": {
    "collapsed": false
   },
   "outputs": [
    {
     "name": "stdout",
     "output_type": "stream",
     "text": [
      "3.62939869079e+11 K\n"
     ]
    }
   ],
   "source": [
    "print T"
   ]
  },
  {
   "cell_type": "code",
   "execution_count": 130,
   "metadata": {
    "collapsed": true
   },
   "outputs": [],
   "source": [
    "#b."
   ]
  },
  {
   "cell_type": "code",
   "execution_count": 133,
   "metadata": {
    "collapsed": false
   },
   "outputs": [],
   "source": [
    "gamma = (3.0/2.0 * Kb * T / (me * c**2)) \n",
    "gamma = gamma.to(units.m / units.m)"
   ]
  },
  {
   "cell_type": "code",
   "execution_count": 134,
   "metadata": {
    "collapsed": false
   },
   "outputs": [
    {
     "name": "stdout",
     "output_type": "stream",
     "text": [
      "91.8076335974\n"
     ]
    }
   ],
   "source": [
    "print gamma"
   ]
  },
  {
   "cell_type": "code",
   "execution_count": 48,
   "metadata": {
    "collapsed": false
   },
   "outputs": [
    {
     "name": "stdout",
     "output_type": "stream",
     "text": [
      "1.0 kg / (C s)\n"
     ]
    }
   ],
   "source": [
    "B = 1E4 * units.Gauss\n",
    "B = B.to(units.kg / units.C / units.s )\n",
    "print B"
   ]
  },
  {
   "cell_type": "code",
   "execution_count": 50,
   "metadata": {
    "collapsed": false
   },
   "outputs": [
    {
     "name": "stdout",
     "output_type": "stream",
     "text": [
      "6.32145448039 1 / m\n"
     ]
    }
   ],
   "source": [
    "wb = e.value * units.C  * B / (gamma * me *c)\n",
    "wb = wb.to(1/units.m)\n",
    "print wb"
   ]
  },
  {
   "cell_type": "code",
   "execution_count": 39,
   "metadata": {
    "collapsed": false
   },
   "outputs": [
    {
     "name": "stdout",
     "output_type": "stream",
     "text": [
      "1.602176565e-19 C\n"
     ]
    }
   ],
   "source": [
    "print e.value * units.C"
   ]
  },
  {
   "cell_type": "code",
   "execution_count": 120,
   "metadata": {
    "collapsed": false
   },
   "outputs": [
    {
     "name": "stdout",
     "output_type": "stream",
     "text": [
      "337782.80254 1 / m\n"
     ]
    }
   ],
   "source": [
    "peak = wb * gamma **3 * 0.28 * 3 / (4 * pi)\n",
    "print peak"
   ]
  },
  {
   "cell_type": "markdown",
   "metadata": {
    "collapsed": true
   },
   "source": [
    "# 2"
   ]
  },
  {
   "cell_type": "markdown",
   "metadata": {},
   "source": [
    "## B \n",
    "\n",
    "$L_{\\nu} = \\int \\int B_{\\nu} d\\nu dA d\\Omega$"
   ]
  },
  {
   "cell_type": "markdown",
   "metadata": {},
   "source": [
    "# 3 "
   ]
  },
  {
   "cell_type": "markdown",
   "metadata": {},
   "source": [
    "#a)  According to observational 'experience'the equivalent width is $W = \\sim 1\\AA$"
   ]
  },
  {
   "cell_type": "markdown",
   "metadata": {},
   "source": [
    "b) That corresponds to a point near 15 in xscale and -3.77 in the yscale"
   ]
  },
  {
   "cell_type": "code",
   "execution_count": 254,
   "metadata": {
    "collapsed": false
   },
   "outputs": [
    {
     "name": "stdout",
     "output_type": "stream",
     "text": [
      "-3.8950540314\n"
     ]
    }
   ],
   "source": [
    "y = np.log10(0.75 / 5890.)\n",
    "print y"
   ]
  },
  {
   "cell_type": "markdown",
   "metadata": {},
   "source": [
    "#C)"
   ]
  },
  {
   "cell_type": "code",
   "execution_count": 60,
   "metadata": {
    "collapsed": false
   },
   "outputs": [
    {
     "name": "stdout",
     "output_type": "stream",
     "text": [
      "1.5503875969e+15\n"
     ]
    }
   ],
   "source": [
    "N = 10**(15) / (0.645 * (5890/5000))\n",
    "print N"
   ]
  },
  {
   "cell_type": "code",
   "execution_count": 61,
   "metadata": {
    "collapsed": true
   },
   "outputs": [],
   "source": [
    "#D)"
   ]
  },
  {
   "cell_type": "code",
   "execution_count": 65,
   "metadata": {
    "collapsed": false
   },
   "outputs": [
    {
     "name": "stdout",
     "output_type": "stream",
     "text": [
      "3.37257331625e-19 J\n"
     ]
    }
   ],
   "source": [
    "DE = constants.h * c / (5890 * units.Angstrom)\n",
    "DE =  DE.to(units.J)\n",
    "print DE"
   ]
  },
  {
   "cell_type": "code",
   "execution_count": 85,
   "metadata": {
    "collapsed": false
   },
   "outputs": [
    {
     "name": "stdout",
     "output_type": "stream",
     "text": [
      "0.0511685692871\n"
     ]
    }
   ],
   "source": [
    "NbNa  = 3 * np.exp(-DE /(Kb * 6000*units.K))\n",
    "print NbNa"
   ]
  },
  {
   "cell_type": "code",
   "execution_count": 86,
   "metadata": {
    "collapsed": false
   },
   "outputs": [],
   "source": [
    "#E)\n",
    "T = 6000 * units.K\n",
    "X = 5.1 * units.eV\n",
    "ZII = 1.0\n",
    "ZI = 2.4\n",
    "P = 200 * units.dyne / units.cm**2\n",
    "NIINI = 2.0 * Kb * T * ZII / (P * ZI) * ( 2.0 * np.pi * me * Kb * T / constants.h**2.0 )**(3.0/2.0) * np.exp(-X/(Kb * T))"
   ]
  },
  {
   "cell_type": "code",
   "execution_count": 103,
   "metadata": {
    "collapsed": false
   },
   "outputs": [
    {
     "name": "stdout",
     "output_type": "stream",
     "text": [
      "201.510789796\n",
      "20.0 N / m2\n"
     ]
    }
   ],
   "source": [
    "NIINI =  NIINI.to(units.kg/units.kg)\n",
    "print NIINI\n",
    "P = P.to(units.N/units.m**2)\n",
    "print P"
   ]
  },
  {
   "cell_type": "code",
   "execution_count": 104,
   "metadata": {
    "collapsed": true
   },
   "outputs": [],
   "source": [
    "#F)\n",
    "NII = N * (1 + 0.05) * (NIINI + 1)"
   ]
  },
  {
   "cell_type": "code",
   "execution_count": 105,
   "metadata": {
    "collapsed": false
   },
   "outputs": [
    {
     "data": {
      "text/latex": [
       "$3.2966873 \\times 10^{17} \\; \\mathrm{}$"
      ],
      "text/plain": [
       "<Quantity 3.296687275753456e+17>"
      ]
     },
     "execution_count": 105,
     "metadata": {},
     "output_type": "execute_result"
    }
   ],
   "source": [
    "NII"
   ]
  },
  {
   "cell_type": "code",
   "execution_count": 95,
   "metadata": {
    "collapsed": false
   },
   "outputs": [
    {
     "data": {
      "text/latex": [
       "$201.51079 \\; \\mathrm{}$"
      ],
      "text/plain": [
       "<Quantity 201.51078979628372>"
      ]
     },
     "execution_count": 95,
     "metadata": {},
     "output_type": "execute_result"
    }
   ],
   "source": [
    "NIINI"
   ]
  },
  {
   "cell_type": "code",
   "execution_count": 106,
   "metadata": {
    "collapsed": false
   },
   "outputs": [
    {
     "data": {
      "text/plain": [
       "1.25"
      ]
     },
     "execution_count": 106,
     "metadata": {},
     "output_type": "execute_result"
    }
   ],
   "source": [
    "1/0.8 "
   ]
  },
  {
   "cell_type": "code",
   "execution_count": 110,
   "metadata": {
    "collapsed": true
   },
   "outputs": [],
   "source": [
    "#2c"
   ]
  },
  {
   "cell_type": "code",
   "execution_count": 114,
   "metadata": {
    "collapsed": true
   },
   "outputs": [],
   "source": [
    "alpha = 2.59E-13 * units.cm**3 / units.s\n",
    "nh = 10 / units.cm**3\n",
    "Naa = 7.1E50 / units.s\n",
    "rs = (3*Naa/(4*np.pi*alpha))**(1.0/3.0) * nh**(-2.0/3.0)"
   ]
  },
  {
   "cell_type": "code",
   "execution_count": 117,
   "metadata": {
    "collapsed": false
   },
   "outputs": [
    {
     "name": "stdout",
     "output_type": "stream",
     "text": [
      "60.6186294801 pc\n"
     ]
    }
   ],
   "source": [
    "print rs.to(units.pc)"
   ]
  },
  {
   "cell_type": "code",
   "execution_count": 119,
   "metadata": {
    "collapsed": false
   },
   "outputs": [
    {
     "name": "stdout",
     "output_type": "stream",
     "text": [
      "45.7689673221 pc\n"
     ]
    }
   ],
   "source": [
    "alpha = 2.59E-13 * units.cm**3 / units.s\n",
    "nh = 10 / units.cm**3\n",
    "Naa = 3.056E50 / units.s\n",
    "rs2 = (3*Naa/(4*np.pi*alpha))**(1.0/3.0) * nh**(-2.0/3.0)\n",
    "print rs2.to(units.pc)"
   ]
  },
  {
   "cell_type": "code",
   "execution_count": 136,
   "metadata": {
    "collapsed": true
   },
   "outputs": [],
   "source": [
    "#2"
   ]
  },
  {
   "cell_type": "code",
   "execution_count": 138,
   "metadata": {
    "collapsed": true
   },
   "outputs": [],
   "source": [
    "def planck_function(nu, T):\n",
    "    constant = 2.*h*nu**3 / c**2\n",
    "    return constant / (np.exp(h*nu/k_B/T) - 1.)\n",
    "\n",
    "def integrand(nu, T):\n",
    "    return np.pi / h / nu * planck_function(nu, T) * alpha_nu* (nu_0/nu)**3\n"
   ]
  },
  {
   "cell_type": "code",
   "execution_count": 169,
   "metadata": {
    "collapsed": false
   },
   "outputs": [],
   "source": [
    "#from scipy.integrate import quad\n",
    "h = constants.h.cgs.value\n",
    "k_B = constants.k_B.cgs.value\n",
    "c = constants.c.cgs.value\n",
    "\n",
    "T_eff = 40e+3 \n",
    "nu_0 = 3.2871e+15\n",
    "alpha_nu = 6.3e-18\n",
    "\n",
    "integral = quad(integrand, nu0.value , infty,args=(T_eff))\n"
   ]
  },
  {
   "cell_type": "code",
   "execution_count": 170,
   "metadata": {
    "collapsed": false
   },
   "outputs": [
    {
     "name": "stdout",
     "output_type": "stream",
     "text": [
      "(-8.792103384170412e-09, 4.0525072097159097e-17)\n"
     ]
    }
   ],
   "source": [
    "print integral"
   ]
  },
  {
   "cell_type": "code",
   "execution_count": 163,
   "metadata": {
    "collapsed": false
   },
   "outputs": [
    {
     "name": "stdout",
     "output_type": "stream",
     "text": [
      "3.33102731111e+15 1 / s\n"
     ]
    }
   ],
   "source": [
    "L0 = 900.0 * units.Angstrom\n",
    "c = constants.c\n",
    "nu0 =  c / L0.to(units.m)\n",
    "print nu0"
   ]
  },
  {
   "cell_type": "code",
   "execution_count": 164,
   "metadata": {
    "collapsed": true
   },
   "outputs": [],
   "source": [
    "R = 11 * units.Rsun\n",
    "alpha = 2.59E-13 * units.cm**3 / units.s\n",
    "Nh = 10/ units.cm**3\n",
    "a_nu = 6.3E-18 * units.cm**2"
   ]
  },
  {
   "cell_type": "code",
   "execution_count": 165,
   "metadata": {
    "collapsed": true
   },
   "outputs": [],
   "source": [
    "Const = 2 * np.pi**2 * R**2 * a_nu * nu0**3 / (Nh * alpha * c**2 )"
   ]
  },
  {
   "cell_type": "code",
   "execution_count": 167,
   "metadata": {
    "collapsed": false
   },
   "outputs": [
    {
     "name": "stdout",
     "output_type": "stream",
     "text": [
      "121.381427441 kpc2\n"
     ]
    }
   ],
   "source": [
    "print Const.to(units.kpc**2)"
   ]
  },
  {
   "cell_type": "code",
   "execution_count": 194,
   "metadata": {
    "collapsed": true
   },
   "outputs": [],
   "source": [
    "def exponential(x, R):\n",
    "    return exp(-a_nu.to(units.km**2).value * (1 - x)*R * Nh.value)"
   ]
  },
  {
   "cell_type": "code",
   "execution_count": 205,
   "metadata": {
    "collapsed": false
   },
   "outputs": [
    {
     "data": {
      "text/plain": [
       "1.0"
      ]
     },
     "execution_count": 205,
     "metadata": {},
     "output_type": "execute_result"
    }
   ],
   "source": [
    "exponential(, R.value)"
   ]
  },
  {
   "cell_type": "code",
   "execution_count": 193,
   "metadata": {
    "collapsed": false
   },
   "outputs": [
    {
     "data": {
      "text/latex": [
       "$4.8198704 \\times 10^{-21} \\; \\mathrm{km^{3}}$"
      ],
      "text/plain": [
       "<Quantity 4.81987044e-21 km3>"
      ]
     },
     "execution_count": 193,
     "metadata": {},
     "output_type": "execute_result"
    }
   ],
   "source": [
    "a_nu.to(units.km**2) * R.to(units.km)"
   ]
  },
  {
   "cell_type": "code",
   "execution_count": 207,
   "metadata": {
    "collapsed": false
   },
   "outputs": [
    {
     "name": "stdout",
     "output_type": "stream",
     "text": [
      "-1.056006e-06 kpc\n"
     ]
    }
   ],
   "source": [
    "D = 121.38 * units.kpc * (- 8.7E-9)\n",
    "print D"
   ]
  },
  {
   "cell_type": "code",
   "execution_count": 223,
   "metadata": {
    "collapsed": false
   },
   "outputs": [],
   "source": [
    "XX = linspace(0.1, 121, 100)\n",
    "ioni = []\n",
    "for x in XX:\n",
    "    io =  (- D.value / x**2 + sqrt((D.value/x)**2 - 4*(D.value/x)))/2\n",
    "    ioni.append(io)\n",
    "    "
   ]
  },
  {
   "cell_type": "code",
   "execution_count": 255,
   "metadata": {
    "collapsed": false
   },
   "outputs": [
    {
     "data": {
      "text/plain": [
       "[<matplotlib.lines.Line2D at 0x7f2a3575acd0>]"
      ]
     },
     "execution_count": 255,
     "metadata": {},
     "output_type": "execute_result"
    },
    {
     "data": {
      "image/png": "[encoded data removed]",
      "text/plain": [
       "<matplotlib.figure.Figure at 0x7f2a3575a4d0>"
      ]
     },
     "metadata": {},
     "output_type": "display_data"
    }
   ],
   "source": [
    "plot(XX, ioni)"
   ]
  },
  {
   "cell_type": "code",
   "execution_count": 228,
   "metadata": {
    "collapsed": true
   },
   "outputs": [],
   "source": [
    "#B)"
   ]
  },
  {
   "cell_type": "code",
   "execution_count": 246,
   "metadata": {
    "collapsed": true
   },
   "outputs": [],
   "source": [
    "def planck_function(nu, T):\n",
    "    c1 = constants.c\n",
    "    k_B = constants.k_B.value\n",
    "    constant = 2.*h.value*nu**3 / c1.value**2\n",
    "    return constant / (np.exp(h.value*nu/k_B/T) - 1.)\n",
    "\n",
    "def integrand2(nu, T):\n",
    "    c1 = constants.c\n",
    "    R1 = 11 * units.Rsun\n",
    "    R1 = R1.to(units.m)\n",
    "    h = constants.h\n",
    "    return 8 * np.pi * R1.value**2 / h.value / nu / c1.value**2 * planck_function(nu, T) "
   ]
  },
  {
   "cell_type": "code",
   "execution_count": 248,
   "metadata": {
    "collapsed": false
   },
   "outputs": [
    {
     "name": "stdout",
     "output_type": "stream",
     "text": [
      "(-7.566347427617054e+16, 145150752.0)\n"
     ]
    }
   ],
   "source": [
    "T_eff = 40e+3 \n",
    "\n",
    "integral = quad(integrand2, nu0.value , infty,args=(T_eff))\n",
    "print integral"
   ]
  },
  {
   "cell_type": "code",
   "execution_count": null,
   "metadata": {
    "collapsed": true
   },
   "outputs": [],
   "source": []
  }
 ],
 "metadata": {
  "kernelspec": {
   "display_name": "Python 2",
   "language": "python",
   "name": "python2"
  },
  "language_info": {
   "codemirror_mode": {
    "name": "ipython",
    "version": 2
   },
   "file_extension": ".py",
   "mimetype": "text/x-python",
   "name": "python",
   "nbconvert_exporter": "python",
   "pygments_lexer": "ipython2",
   "version": "2.7.6"
  }
 },
 "nbformat": 4,
 "nbformat_minor": 0
}
