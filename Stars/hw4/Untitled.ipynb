{
 "cells": [
  {
   "cell_type": "code",
   "execution_count": 2,
   "metadata": {
    "collapsed": false
   },
   "outputs": [
    {
     "name": "stdout",
     "output_type": "stream",
     "text": [
      "Populating the interactive namespace from numpy and matplotlib\n"
     ]
    }
   ],
   "source": [
    "%pylab inline\n",
    "from scipy import optimize"
   ]
  },
  {
   "cell_type": "code",
   "execution_count": 8,
   "metadata": {
    "collapsed": true
   },
   "outputs": [],
   "source": [
    "def function(T):\n",
    "    T8 = T/1E8\n",
    "    X = 3.9E11/T8**3 * exp(-42.94/T8)\n",
    "    return X"
   ]
  },
  {
   "cell_type": "code",
   "execution_count": 11,
   "metadata": {
    "collapsed": false
   },
   "outputs": [
    {
     "data": {
      "text/plain": [
       "[<matplotlib.lines.Line2D at 0x7f82e8106790>]"
      ]
     },
     "execution_count": 11,
     "metadata": {},
     "output_type": "execute_result"
    },
    {
     "data": {
      "image/png": "[encoded data removed]",
      "text/plain": [
       "<matplotlib.figure.Figure at 0x7f82e8166e10>"
      ]
     },
     "metadata": {},
     "output_type": "display_data"
    }
   ],
   "source": [
    "T = linspace(8E7, 2E10, 1000)\n",
    "plot(T, function(T))"
   ]
  },
  {
   "cell_type": "code",
   "execution_count": 5,
   "metadata": {
    "collapsed": false
   },
   "outputs": [
    {
     "name": "stdout",
     "output_type": "stream",
     "text": [
      "[  1.00000000e+01   1.17681195e+01   1.38488637e+01   1.62975083e+01\n",
      "   1.91791026e+01   2.25701972e+01   2.65608778e+01   3.12571585e+01\n",
      "   3.67837977e+01   4.32876128e+01   5.09413801e+01   5.99484250e+01\n",
      "   7.05480231e+01   8.30217568e+01   9.77009957e+01   1.14975700e+02\n",
      "   1.35304777e+02   1.59228279e+02   1.87381742e+02   2.20513074e+02\n",
      "   2.59502421e+02   3.05385551e+02   3.59381366e+02   4.22924287e+02\n",
      "   4.97702356e+02   5.85702082e+02   6.89261210e+02   8.11130831e+02\n",
      "   9.54548457e+02   1.12332403e+03   1.32194115e+03   1.55567614e+03\n",
      "   1.83073828e+03   2.15443469e+03   2.53536449e+03   2.98364724e+03\n",
      "   3.51119173e+03   4.13201240e+03   4.86260158e+03   5.72236766e+03\n",
      "   6.73415066e+03   7.92482898e+03   9.32603347e+03   1.09749877e+04\n",
      "   1.29154967e+04   1.51991108e+04   1.78864953e+04   2.10490414e+04\n",
      "   2.47707636e+04   2.91505306e+04   3.43046929e+04   4.03701726e+04\n",
      "   4.75081016e+04   5.59081018e+04   6.57933225e+04   7.74263683e+04\n",
      "   9.11162756e+04   1.07226722e+05   1.26185688e+05   1.48496826e+05\n",
      "   1.74752840e+05   2.05651231e+05   2.42012826e+05   2.84803587e+05\n",
      "   3.35160265e+05   3.94420606e+05   4.64158883e+05   5.46227722e+05\n",
      "   6.42807312e+05   7.56463328e+05   8.90215085e+05   1.04761575e+06\n",
      "   1.23284674e+06   1.45082878e+06   1.70735265e+06   2.00923300e+06\n",
      "   2.36448941e+06   2.78255940e+06   3.27454916e+06   3.85352859e+06\n",
      "   4.53487851e+06   5.33669923e+06   6.28029144e+06   7.39072203e+06\n",
      "   8.69749003e+06   1.02353102e+07   1.20450354e+07   1.41747416e+07\n",
      "   1.66810054e+07   1.96304065e+07   2.31012970e+07   2.71858824e+07\n",
      "   3.19926714e+07   3.76493581e+07   4.43062146e+07   5.21400829e+07\n",
      "   6.13590727e+07   7.22080902e+07   8.49753436e+07   1.00000000e+08]\n"
     ]
    }
   ],
   "source": [
    "print T"
   ]
  },
  {
   "cell_type": "code",
   "execution_count": 5,
   "metadata": {
    "collapsed": false
   },
   "outputs": [
    {
     "data": {
      "text/plain": [
       "8.7591014021418225e-08"
      ]
     },
     "execution_count": 5,
     "metadata": {},
     "output_type": "execute_result"
    }
   ],
   "source": [
    "exp(-42.94) * 3.9E11 "
   ]
  },
  {
   "cell_type": "code",
   "execution_count": 51,
   "metadata": {
    "collapsed": true
   },
   "outputs": [],
   "source": [
    "def approx(T):\n",
    "    T8 = T/1E8\n",
    "    X = 8.75E-8 * T8\n",
    "    return X"
   ]
  },
  {
   "cell_type": "code",
   "execution_count": 52,
   "metadata": {
    "collapsed": false
   },
   "outputs": [
    {
     "data": {
      "text/plain": [
       "[<matplotlib.lines.Line2D at 0x7f82e71e0510>]"
      ]
     },
     "execution_count": 52,
     "metadata": {},
     "output_type": "execute_result"
    },
    {
     "data": {
      "image/png": "[encoded data removed]",
      "text/plain": [
       "<matplotlib.figure.Figure at 0x7f82e75f1f50>"
      ]
     },
     "metadata": {},
     "output_type": "display_data"
    }
   ],
   "source": [
    "plot(T, approx(T))"
   ]
  },
  {
   "cell_type": "code",
   "execution_count": 39,
   "metadata": {
    "collapsed": false
   },
   "outputs": [
    {
     "data": {
      "text/plain": [
       "2.718281828459045"
      ]
     },
     "execution_count": 39,
     "metadata": {},
     "output_type": "execute_result"
    }
   ],
   "source": [
    "e"
   ]
  },
  {
   "cell_type": "code",
   "execution_count": 41,
   "metadata": {
    "collapsed": false
   },
   "outputs": [
    {
     "data": {
      "text/plain": [
       "19.687816644762396"
      ]
     },
     "execution_count": 41,
     "metadata": {},
     "output_type": "execute_result"
    }
   ],
   "source": [
    "exp(1)**2.98"
   ]
  },
  {
   "cell_type": "markdown",
   "metadata": {
    "collapsed": true
   },
   "source": [
    "#2"
   ]
  },
  {
   "cell_type": "code",
   "execution_count": null,
   "metadata": {
    "collapsed": true
   },
   "outputs": [],
   "source": [
    "func(M, r):\n",
    "    M**2 - log(M) - 4*log(M) + "
   ]
  },
  {
   "cell_type": "code",
   "execution_count": 4,
   "metadata": {
    "collapsed": false
   },
   "outputs": [],
   "source": [
    "optimize.fsolve?"
   ]
  },
  {
   "cell_type": "code",
   "execution_count": null,
   "metadata": {
    "collapsed": true
   },
   "outputs": [],
   "source": []
  }
 ],
 "metadata": {
  "kernelspec": {
   "display_name": "Python 2",
   "language": "python",
   "name": "python2"
  },
  "language_info": {
   "codemirror_mode": {
    "name": "ipython",
    "version": 2
   },
   "file_extension": ".py",
   "mimetype": "text/x-python",
   "name": "python",
   "nbconvert_exporter": "python",
   "pygments_lexer": "ipython2",
   "version": "2.7.6"
  }
 },
 "nbformat": 4,
 "nbformat_minor": 0
}
