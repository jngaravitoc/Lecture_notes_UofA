{
 "cells": [
  {
   "cell_type": "markdown",
   "metadata": {},
   "source": [
    "# HW6"
   ]
  },
  {
   "cell_type": "code",
   "execution_count": 60,
   "metadata": {
    "collapsed": false
   },
   "outputs": [
    {
     "name": "stdout",
     "output_type": "stream",
     "text": [
      "Populating the interactive namespace from numpy and matplotlib\n"
     ]
    },
    {
     "name": "stderr",
     "output_type": "stream",
     "text": [
      "/usr/local/lib/python3.4/dist-packages/IPython/core/magics/pylab.py:161: UserWarning: pylab import has clobbered these variables: ['axes', 'test']\n",
      "`%matplotlib` prevents importing * from pylab and numpy\n",
      "  \"\\n`%matplotlib` prevents importing * from pylab and numpy\"\n"
     ]
    }
   ],
   "source": [
    "%pylab inline\n",
    "from sklearn.cluster import KMeans\n",
    "from sklearn import svm"
   ]
  },
  {
   "cell_type": "code",
   "execution_count": 61,
   "metadata": {
    "collapsed": false
   },
   "outputs": [],
   "source": [
    "training = loadtxt('data/training.txt.1')\n",
    "validation = loadtxt('data/validation.txt')\n",
    "test = loadtxt('data/test.txt')"
   ]
  },
  {
   "cell_type": "code",
   "execution_count": 62,
   "metadata": {
    "collapsed": false
   },
   "outputs": [],
   "source": [
    "def substract_max_data(data):\n",
    "    data_copy = copy(data)\n",
    "    for i in range((20)):\n",
    "        x_vals = array(list((set(data_copy[:,i]))))\n",
    "        values = arange(1, len(x_vals)+1)\n",
    "        for j in range(len(data)-1):\n",
    "            index = where(data_copy[j,i]==x_vals)[0]\n",
    "            data_copy[j,i] = values[index]\n",
    "    return data_copy"
   ]
  },
  {
   "cell_type": "code",
   "execution_count": 63,
   "metadata": {
    "collapsed": true
   },
   "outputs": [],
   "source": [
    "def ages_data(data2):\n",
    "    data_copy2 = copy(data2)\n",
    "    for i in range((20)):\n",
    "        x_vals = array(list((set(data2[:,i]))))\n",
    "        values = arange(1, len(x_vals)+1)\n",
    "        if i!=12:\n",
    "            for j in range(len(data2)-1):\n",
    "                index = where(data2[j,i]==x_vals)[0]\n",
    "                data_copy2[j,i] = values[index]\n",
    "    return data_copy2\n",
    "    "
   ]
  },
  {
   "cell_type": "code",
   "execution_count": 64,
   "metadata": {
    "collapsed": true
   },
   "outputs": [],
   "source": [
    "def genre_data(data3):\n",
    "    data_copy3 = copy(data3)\n",
    "    for i in range((20)):\n",
    "        x_vals = array(list((set(data3[:,i]))))\n",
    "        values = arange(1, len(x_vals)+1)\n",
    "        if i!=8:\n",
    "            for j in range(len(data3)-1):\n",
    "                index = where(data3[j,i]==x_vals)[0]\n",
    "                data_copy3[j,i] = values[index]\n",
    "    return data_copy3\n",
    "    "
   ]
  },
  {
   "cell_type": "code",
   "execution_count": 65,
   "metadata": {
    "collapsed": false
   },
   "outputs": [],
   "source": [
    "training_all = substract_max_data(training)\n",
    "validation_all = substract_max_data(validation)\n",
    "test_all = substract_max_data(test)"
   ]
  },
  {
   "cell_type": "code",
   "execution_count": 66,
   "metadata": {
    "collapsed": false
   },
   "outputs": [],
   "source": [
    "train_ages = ages_data(training)\n",
    "validation_ages = ages_data(validation)\n",
    "test_ages = ages_data(test)"
   ]
  },
  {
   "cell_type": "code",
   "execution_count": 67,
   "metadata": {
    "collapsed": false
   },
   "outputs": [],
   "source": [
    "train_genre = genre_data(training)\n",
    "validation_genre = genre_data(validation)\n",
    "test_genre = genre_data(test)"
   ]
  },
  {
   "cell_type": "code",
   "execution_count": 9,
   "metadata": {
    "collapsed": false
   },
   "outputs": [
    {
     "data": {
      "text/plain": [
       "(array([ 147.,  187.,  169.,   94.,   85.,   42.,   31.,   22.,   17.,    6.]),\n",
       " array([ 20. ,  25.5,  31. ,  36.5,  42. ,  47.5,  53. ,  58.5,  64. ,\n",
       "         69.5,  75. ]),\n",
       " <a list of 10 Patch objects>)"
      ]
     },
     "execution_count": 9,
     "metadata": {},
     "output_type": "execute_result"
    },
    {
     "data": {
      "image/png": "[encoded data removed]",
      "text/plain": [
       "<matplotlib.figure.Figure at 0x7fbd02598ac8>"
      ]
     },
     "metadata": {},
     "output_type": "display_data"
    }
   ],
   "source": [
    "hist(train_ages[:,12])"
   ]
  },
  {
   "cell_type": "code",
   "execution_count": 10,
   "metadata": {
    "collapsed": false
   },
   "outputs": [
    {
     "data": {
      "text/plain": [
       "(array([  40.,    0.,    0.,  247.,    0.,    0.,  441.,    0.,    0.,   72.]),\n",
       " array([ 91. ,  91.3,  91.6,  91.9,  92.2,  92.5,  92.8,  93.1,  93.4,\n",
       "         93.7,  94. ]),\n",
       " <a list of 10 Patch objects>)"
      ]
     },
     "execution_count": 10,
     "metadata": {},
     "output_type": "execute_result"
    },
    {
     "data": {
      "image/png": "[encoded data removed]",
      "text/plain": [
       "<matplotlib.figure.Figure at 0x7fbcfed2f588>"
      ]
     },
     "metadata": {},
     "output_type": "display_data"
    }
   ],
   "source": [
    "hist(train_genre[:,8])"
   ]
  },
  {
   "cell_type": "code",
   "execution_count": 11,
   "metadata": {
    "collapsed": false
   },
   "outputs": [],
   "source": [
    "def bin_data(data):\n",
    "    binned = copy(data)\n",
    "    index1 = np.where(data[:,12] <30)\n",
    "    index2 = np.where((data[:,12] <40) & (data[:,12] > 30))\n",
    "    index3 = np.where((data[:,12] <50) & (data[:,12] > 40))\n",
    "    index4 = np.where((data[:,12] <60) & (data[:,12] > 50))\n",
    "    index5 = np.where((data[:,12] <70) & (data[:,12] > 60))\n",
    "    index6 = np.where(data[:,12] > 70)\n",
    "    \n",
    "    return binned[index1],  binned[index2],  binned[index3],  binned[index4],  binned[index5],  binned[index6] \n",
    "\n",
    "def bin_genre(data):\n",
    "    binned2 = copy(data)\n",
    "    index1 = np.where(data[:,8] == 91)\n",
    "    index2 = np.where(data[:,8] == 92)\n",
    "    index3 = np.where(data[:,8]  == 93)\n",
    "    index4 = np.where(data[:,8] == 94)\n",
    "    return binned2[index1],  binned2[index2],  binned2[index3],  binned2[index4] "
   ]
  },
  {
   "cell_type": "code",
   "execution_count": 68,
   "metadata": {
    "collapsed": false
   },
   "outputs": [],
   "source": [
    "tr_ages1, tr_ages2, tr_ages3, tr_ages4, tr_ages5, tr_ages6 = bin_data(train_ages)\n",
    "val_ages1, val_ages2, val_ages3, val_ages4, val_ages5, val_ages6 = bin_data(validation_ages)"
   ]
  },
  {
   "cell_type": "code",
   "execution_count": 69,
   "metadata": {
    "collapsed": false
   },
   "outputs": [],
   "source": [
    "tr_genre1, tr_genre2, tr_genre3, tr_genre4=   bin_genre(train_genre)\n",
    "val_genre1, val_genre2, val_genre3, val_genre4  = bin_genre(validation_genre)"
   ]
  },
  {
   "cell_type": "code",
   "execution_count": 70,
   "metadata": {
    "collapsed": false
   },
   "outputs": [],
   "source": [
    "X_tr = training_all[:,:-1]\n",
    "Y_tr = training_all[:,-1]\n",
    "\n",
    "X_val = validation_all[:,:-1]\n",
    "Y_val = validation_all[:,-1]\n",
    "\n",
    "X_test = test_all\n",
    "\n",
    "X_tr_age1 = tr_ages1[:,:-1]\n",
    "Y_tr_age1 = tr_ages1[:,-1]\n",
    "\n",
    "X_tr_age2 = tr_ages2[:,:-1]\n",
    "Y_tr_age2 = tr_ages2[:,-1]\n",
    "\n",
    "X_tr_age3 = tr_ages3[:,:-1]\n",
    "Y_tr_age3 = tr_ages3[:,-1]\n",
    "\n",
    "X_tr_age4 = tr_ages4[:,:-1]\n",
    "Y_tr_age4 = tr_ages4[:,-1]\n",
    "\n",
    "X_tr_age5 = tr_ages5[:,:-1]\n",
    "Y_tr_age5 = tr_ages5[:,-1]\n",
    "\n",
    "X_tr_age6 = tr_ages6[:,:-1]\n",
    "Y_tr_age6 = tr_ages6[:,-1]\n",
    "\n",
    "X_val_age1 = val_ages1[:,:-1]\n",
    "Y_val_age1 = val_ages1[:,-1]\n",
    "\n",
    "X_val_age2 = val_ages2[:,:-1]\n",
    "Y_val_age2 = val_ages2[:,-1]\n",
    "\n",
    "X_val_age3 = val_ages3[:,:-1]\n",
    "Y_val_age3 = val_ages3[:,-1]\n",
    "\n",
    "X_val_age4 = val_ages4[:,:-1]\n",
    "Y_val_age4 = val_ages4[:,-1]\n",
    "\n",
    "X_val_age5 = val_ages5[:,:-1]\n",
    "Y_val_age5 = val_ages5[:,-1]\n",
    "\n",
    "X_val_age6 = val_ages6[:,:-1]\n",
    "Y_val_age6 = val_ages6[:,-1]\n",
    "\n",
    "X_tr_genre1 = tr_genre1[:,:-1]\n",
    "Y_tr_genre1 = tr_genre1[:,-1]\n",
    "\n",
    "X_tr_genre2 = tr_genre2[:,:-1]\n",
    "Y_tr_genre2 = tr_genre2[:,-1]\n",
    "\n",
    "X_tr_genre3 = tr_genre3[:,:-1]\n",
    "Y_tr_genre3 = tr_genre3[:,-1]\n",
    "\n",
    "X_tr_genre4 = tr_genre4[:,:-1]\n",
    "Y_tr_genre4 = tr_genre4[:,-1]\n",
    "\n",
    "\n",
    "X_val_genre1 = val_genre1[:,:-1]\n",
    "Y_val_genre1 = val_genre1[:,-1]\n",
    "\n",
    "X_val_genre2 = val_genre2[:,:-1]\n",
    "Y_val_genre2 = val_genre2[:,-1]\n",
    "\n",
    "X_val_genre3 = val_genre3[:,:-1]\n",
    "Y_val_genre3 = val_genre3[:,-1]\n",
    "\n",
    "X_val_genre4 = val_genre4[:,:-1]\n",
    "Y_val_genre4 = val_genre4[:,-1]\n",
    "\n",
    "\n",
    "#Y_tr = training[:,-1]"
   ]
  },
  {
   "cell_type": "markdown",
   "metadata": {},
   "source": [
    "# K-means clustering"
   ]
  },
  {
   "cell_type": "code",
   "execution_count": 15,
   "metadata": {
    "collapsed": false
   },
   "outputs": [],
   "source": [
    "kmeans= KMeans(2, init='k-means++').fit(X_tr)"
   ]
  },
  {
   "cell_type": "code",
   "execution_count": 16,
   "metadata": {
    "collapsed": false
   },
   "outputs": [],
   "source": [
    "kmeans_pred = kmeans.predict(X_tr)"
   ]
  },
  {
   "cell_type": "code",
   "execution_count": 17,
   "metadata": {
    "collapsed": false
   },
   "outputs": [
    {
     "data": {
      "text/plain": [
       "800"
      ]
     },
     "execution_count": 17,
     "metadata": {},
     "output_type": "execute_result"
    }
   ],
   "source": [
    "len(Y_tr)"
   ]
  },
  {
   "cell_type": "code",
   "execution_count": 18,
   "metadata": {
    "collapsed": false
   },
   "outputs": [],
   "source": [
    "def performance(predict, truth):\n",
    "    perf1 = np.sum(np.abs((predict) - (truth-1)))\n",
    "    index_zero = where(predict==0)\n",
    "    index_one = where(predict==1)\n",
    "    new_predict = predict\n",
    "    new_predict[index_zero] = 1 \n",
    "    new_predict[index_one] = 0 \n",
    "    perf2 = np.sum(np.abs((new_predict) - (truth-1)))\n",
    "\n",
    "    #index_zero = where(predict==0)\n",
    "    #k_means_pred_adj = predict\n",
    "    #k_means_pred_adj[index_zero] = 2\n",
    "    #perf2  = sum(np.abs((k_means_pred_adj) - truth\n",
    "    \n",
    "    return 1- min(perf1, perf2)/len(truth)"
   ]
  },
  {
   "cell_type": "code",
   "execution_count": 19,
   "metadata": {
    "collapsed": false
   },
   "outputs": [],
   "source": [
    "perf_kmeans_tr = performance(kmeans_pred, Y_tr)"
   ]
  },
  {
   "cell_type": "code",
   "execution_count": 20,
   "metadata": {
    "collapsed": true
   },
   "outputs": [],
   "source": [
    "kmeans_pred2 = kmeans.predict(X_val)\n"
   ]
  },
  {
   "cell_type": "code",
   "execution_count": 21,
   "metadata": {
    "collapsed": false
   },
   "outputs": [],
   "source": [
    "perf_kmeans_val = performance(kmeans_pred2, Y_val)"
   ]
  },
  {
   "cell_type": "code",
   "execution_count": 22,
   "metadata": {
    "collapsed": false
   },
   "outputs": [
    {
     "name": "stdout",
     "output_type": "stream",
     "text": [
      "0.53 0.69\n"
     ]
    }
   ],
   "source": [
    "print(perf_kmeans_tr, perf_kmeans_val)"
   ]
  },
  {
   "cell_type": "markdown",
   "metadata": {},
   "source": [
    "## Age dependence"
   ]
  },
  {
   "cell_type": "code",
   "execution_count": 23,
   "metadata": {
    "collapsed": true
   },
   "outputs": [],
   "source": [
    "kmeans_age1= KMeans(2, init='k-means++').fit(X_tr_age1)\n",
    "kmeans_age2= KMeans(2, init='k-means++').fit(X_tr_age2)\n",
    "kmeans_age3= KMeans(2, init='k-means++').fit(X_tr_age3)\n",
    "kmeans_age4= KMeans(2, init='k-means++').fit(X_tr_age4)\n",
    "kmeans_age5= KMeans(2, init='k-means++').fit(X_tr_age5)\n",
    "kmeans_age6= KMeans(2, init='k-means++').fit(X_tr_age6)\n"
   ]
  },
  {
   "cell_type": "code",
   "execution_count": 24,
   "metadata": {
    "collapsed": true
   },
   "outputs": [],
   "source": [
    "kmeans_pred_age_tr1 = kmeans_age1.predict(X_tr_age1)\n",
    "kmeans_pred_age_tr2 = kmeans_age2.predict(X_tr_age2)\n",
    "kmeans_pred_age_tr3 = kmeans_age3.predict(X_tr_age3)\n",
    "kmeans_pred_age_tr4 = kmeans_age4.predict(X_tr_age4)\n",
    "kmeans_pred_age_tr5 = kmeans_age5.predict(X_tr_age5)\n",
    "kmeans_pred_age_tr6 = kmeans_age6.predict(X_tr_age6)"
   ]
  },
  {
   "cell_type": "code",
   "execution_count": 25,
   "metadata": {
    "collapsed": false
   },
   "outputs": [
    {
     "name": "stdout",
     "output_type": "stream",
     "text": [
      "0.535353535354\n",
      "0.517391304348\n",
      "0.520661157025\n",
      "0.533333333333\n",
      "0.625\n",
      "0.6\n"
     ]
    }
   ],
   "source": [
    "pef_kmeans_tr_age1 = performance(kmeans_pred_age_tr1, Y_tr_age1)\n",
    "print(pef_kmeans_tr_age1)\n",
    "\n",
    "pef_kmeans_tr_age2 = performance(kmeans_pred_age_tr2, Y_tr_age2)\n",
    "print(pef_kmeans_tr_age2)\n",
    "\n",
    "pef_kmeans_tr_age3 = performance(kmeans_pred_age_tr3, Y_tr_age3)\n",
    "print(pef_kmeans_tr_age3)\n",
    "\n",
    "pef_kmeans_tr_age4 = performance(kmeans_pred_age_tr4, Y_tr_age4)\n",
    "print(pef_kmeans_tr_age4)\n",
    "\n",
    "pef_kmeans_tr_age5 = performance(kmeans_pred_age_tr5, Y_tr_age5)\n",
    "print(pef_kmeans_tr_age5)\n",
    "\n",
    "pef_kmeans_tr_age6 = performance(kmeans_pred_age_tr6, Y_tr_age6)\n",
    "print(pef_kmeans_tr_age6)"
   ]
  },
  {
   "cell_type": "markdown",
   "metadata": {},
   "source": [
    "## validation"
   ]
  },
  {
   "cell_type": "code",
   "execution_count": 26,
   "metadata": {
    "collapsed": false
   },
   "outputs": [
    {
     "name": "stdout",
     "output_type": "stream",
     "text": [
      "0.594594594595\n",
      "0.68\n",
      "0.833333333333\n",
      "0.857142857143\n",
      "0.5\n"
     ]
    }
   ],
   "source": [
    "kmeans_pred_age_val1 = kmeans_age1.predict(X_val_age1)\n",
    "kmeans_pred_age_val2 = kmeans_age2.predict(X_val_age2)\n",
    "kmeans_pred_age_val3 = kmeans_age3.predict(X_val_age3)\n",
    "kmeans_pred_age_val4 = kmeans_age4.predict(X_val_age4)\n",
    "kmeans_pred_age_val5 = kmeans_age5.predict(X_val_age5)\n",
    "#kmeans_pred_age_val6 = kmeans_age6.predict(X_val_age6)\n",
    "\n",
    "pef_kmeans_val_age1 = performance(kmeans_pred_age_val1, Y_val_age1)\n",
    "print(pef_kmeans_val_age1)\n",
    "\n",
    "pef_kmeans_val_age2 = performance(kmeans_pred_age_val2, Y_val_age2)\n",
    "print(pef_kmeans_val_age2)\n",
    "\n",
    "pef_kmeans_val_age3 = performance(kmeans_pred_age_val3, Y_val_age3)\n",
    "print(pef_kmeans_val_age3)\n",
    "\n",
    "pef_kmeans_val_age4 = performance(kmeans_pred_age_val4, Y_val_age4)\n",
    "print(pef_kmeans_val_age4)\n",
    "\n",
    "pef_kmeans_val_age5 = performance(kmeans_pred_age_val5, Y_val_age5)\n",
    "print(pef_kmeans_val_age5)\n",
    "\n",
    "#pef_kmeans_val_age6 = performance(kmeans_pred_age_val6, Y_val_age6)\n",
    "#print(pef_kmeans_val_age6)"
   ]
  },
  {
   "cell_type": "code",
   "execution_count": 27,
   "metadata": {
    "collapsed": false
   },
   "outputs": [
    {
     "data": {
      "text/plain": [
       "<matplotlib.text.Text at 0x7fbcfecdb128>"
      ]
     },
     "execution_count": 27,
     "metadata": {},
     "output_type": "execute_result"
    },
    {
     "data": {
      "image/png": "[encoded data removed]",
      "text/plain": [
       "<matplotlib.figure.Figure at 0x7fbcfed0a9e8>"
      ]
     },
     "metadata": {},
     "output_type": "display_data"
    }
   ],
   "source": [
    "ages = [20, 30, 40, 50, 60, 70]\n",
    "figure(figsize=(7,5))\n",
    "plot(ages[:-1], [pef_kmeans_val_age1, pef_kmeans_val_age2, pef_kmeans_val_age3,\n",
    "                 pef_kmeans_val_age4, pef_kmeans_val_age5], label='$Training$')\n",
    "plot(ages, [pef_kmeans_tr_age1, pef_kmeans_tr_age2, pef_kmeans_tr_age3, pef_kmeans_tr_age4,\n",
    "            pef_kmeans_tr_age5, pef_kmeans_tr_age6], label='$Validation$')\n",
    "legend(fontsize=15)\n",
    "xlabel('$Ages$', fontsize=15)\n",
    "ylabel('$Efficiency$', fontsize=15)\n",
    "title('$K-means$', fontsize=15)\n",
    "#savefig('Kmeans_age.pdf', bbox_inches='tight')"
   ]
  },
  {
   "cell_type": "markdown",
   "metadata": {},
   "source": [
    "## Age dependence"
   ]
  },
  {
   "cell_type": "code",
   "execution_count": 28,
   "metadata": {
    "collapsed": false
   },
   "outputs": [],
   "source": [
    "kmeans_genre1 = KMeans(2, init='k-means++').fit(X_tr_genre1)\n",
    "kmeans_genre2 = KMeans(2, init='k-means++').fit(X_tr_genre2)\n",
    "kmeans_genre3 = KMeans(2, init='k-means++').fit(X_tr_genre3)\n",
    "kmeans_genre4 = KMeans(2, init='k-means++').fit(X_tr_genre4)\n",
    "\n",
    "kmeans_pred_gen_tr1 = kmeans_genre1.predict(X_tr_genre1)\n",
    "kmeans_pred_gen_tr2 = kmeans_genre2.predict(X_tr_genre2)\n",
    "kmeans_pred_gen_tr3 = kmeans_genre3.predict(X_tr_genre3)\n",
    "kmeans_pred_gen_tr4 = kmeans_genre4.predict(X_tr_genre4)\n",
    "\n",
    "kmeans_pred_gen_val1 = kmeans_genre1.predict(X_val_genre1)\n",
    "kmeans_pred_gen_val2 = kmeans_genre2.predict(X_val_genre2)\n",
    "kmeans_pred_gen_val3 = kmeans_genre3.predict(X_val_genre3)\n",
    "kmeans_pred_gen_val4 = kmeans_genre4.predict(X_val_genre4)"
   ]
  },
  {
   "cell_type": "code",
   "execution_count": 29,
   "metadata": {
    "collapsed": false
   },
   "outputs": [
    {
     "name": "stdout",
     "output_type": "stream",
     "text": [
      "0.5\n",
      "0.678571428571\n",
      "0.684210526316\n",
      "0.818181818182\n",
      "0.6\n",
      "0.538461538462\n",
      "0.528344671202\n",
      "0.5\n"
     ]
    }
   ],
   "source": [
    "pef_kmeans_val_gen1 = performance(kmeans_pred_gen_val1, Y_val_genre1)\n",
    "print(pef_kmeans_val_gen1)\n",
    "\n",
    "pef_kmeans_val_gen2 = performance(kmeans_pred_gen_val2, Y_val_genre2)\n",
    "print(pef_kmeans_val_gen2)\n",
    "\n",
    "pef_kmeans_val_gen3 = performance(kmeans_pred_gen_val3, Y_val_genre3)\n",
    "print(pef_kmeans_val_gen3)\n",
    "\n",
    "pef_kmeans_val_gen4 = performance(kmeans_pred_gen_val4, Y_val_genre4)\n",
    "print(pef_kmeans_val_gen4)\n",
    "\n",
    "pef_kmeans_tr_gen1 = performance(kmeans_pred_gen_tr1, Y_tr_genre1)\n",
    "print(pef_kmeans_tr_gen1)\n",
    "\n",
    "pef_kmeans_tr_gen2 = performance(kmeans_pred_gen_tr2, Y_tr_genre2)\n",
    "print(pef_kmeans_tr_gen2)\n",
    "\n",
    "pef_kmeans_tr_gen3 = performance(kmeans_pred_gen_tr3, Y_tr_genre3)\n",
    "print(pef_kmeans_tr_gen3)\n",
    "\n",
    "pef_kmeans_tr_gen4 = performance(kmeans_pred_gen_tr4, Y_tr_genre4)\n",
    "print(pef_kmeans_tr_gen4)\n"
   ]
  },
  {
   "cell_type": "code",
   "execution_count": 30,
   "metadata": {
    "collapsed": false
   },
   "outputs": [
    {
     "data": {
      "text/plain": [
       "<matplotlib.text.Text at 0x7fbcfec5bc18>"
      ]
     },
     "execution_count": 30,
     "metadata": {},
     "output_type": "execute_result"
    },
    {
     "data": {
      "image/png": "[encoded data removed]",
      "text/plain": [
       "<matplotlib.figure.Figure at 0x7fbcfec58c18>"
      ]
     },
     "metadata": {},
     "output_type": "display_data"
    }
   ],
   "source": [
    "genre = ['Male_divorced', 'Female', 'Male single', 'Male Married']\n",
    "\n",
    "figure(figsize=(7,5))\n",
    "\n",
    "\n",
    "plot([91, 92, 93, 94],  [pef_kmeans_tr_gen1, pef_kmeans_tr_gen2, pef_kmeans_tr_gen3, pef_kmeans_tr_gen4], label='Training')\n",
    "plot([91, 92, 93, 94],  [pef_kmeans_val_gen1, pef_kmeans_val_gen2, pef_kmeans_val_gen3, pef_kmeans_val_gen4], label='Validation')\n",
    "\n",
    "legend(fontsize=15)\n",
    "xlabel('$Genre$', fontsize=15)\n",
    "ylabel('$Efficiency$', fontsize=15)\n",
    "title('$K-means$', fontsize=15)\n",
    "#savefig('Kmeans_genre.pdf', bbox_inches='tight')"
   ]
  },
  {
   "cell_type": "markdown",
   "metadata": {},
   "source": [
    "# SVM"
   ]
  },
  {
   "cell_type": "code",
   "execution_count": 31,
   "metadata": {
    "collapsed": true
   },
   "outputs": [],
   "source": [
    "def core_method_SVC(X_train, Y_train, data_test):\n",
    "    clf = svm.SVC()\n",
    "    clf.fit(X_train, Y_train)\n",
    "    predictions = clf.predict(data_test)\n",
    "    return predictions-1\n",
    "\n",
    "\n",
    "def core_method_LinearSVC(X_train, Y_train, data_test):\n",
    "    clf = svm.LinearSVC()\n",
    "    clf.fit(X_train, Y_train)\n",
    "    predictions = clf.predict(data_test)\n",
    "    return predictions-1\n",
    "\n",
    "\n",
    "def core_method_NuSVC(X_train, Y_train, data_test):\n",
    "    clf = svm.NuSVC()\n",
    "    clf.fit(X_train, Y_train)\n",
    "    predictions = clf.predict(data_test)\n",
    "    return predictions-1"
   ]
  },
  {
   "cell_type": "code",
   "execution_count": 32,
   "metadata": {
    "collapsed": false
   },
   "outputs": [],
   "source": [
    "predictions_SVC = core_method_SVC(X_tr, Y_tr, X_val)\n",
    "predictions_LinearSVC = core_method_LinearSVC(X_tr, Y_tr, X_val)\n",
    "predictions_NuSVC = core_method_NuSVC(X_tr, Y_tr, X_val)\n",
    "\n",
    "\n",
    "predictions_SVC_tr = core_method_SVC(X_tr, Y_tr, X_tr)\n",
    "predictions_LinearSVC_tr = core_method_LinearSVC(X_tr, Y_tr, X_tr)\n",
    "predictions_NuSVC_tr = core_method_NuSVC(X_tr, Y_tr, X_tr)\n",
    "\n",
    "\n",
    "perf_SVC = performance(predictions_SVC, Y_val)\n",
    "perf_LinearSVC = performance(predictions_LinearSVC, Y_val)\n",
    "perf_NuSVC = performance(predictions_NuSVC, Y_val)\n",
    "\n",
    "perf_SVC_tr = performance(predictions_SVC_tr, Y_tr)\n",
    "perf_LinearSVC_tr = performance(predictions_LinearSVC_tr, Y_tr)\n",
    "perf_NuSVC_tr = performance(predictions_NuSVC_tr, Y_tr)\n",
    "\n",
    "#for i in range(20):\n",
    "#    dif[:,i] = np.abs(predictions[:,i] - Y_val)\n",
    "#    print(sum(dif[:,i]), i)\n"
   ]
  },
  {
   "cell_type": "code",
   "execution_count": 33,
   "metadata": {
    "collapsed": false
   },
   "outputs": [],
   "source": [
    "validation = [perf_kmeans_val, perf_SVC, perf_LinearSVC, perf_NuSVC]\n",
    "training = [perf_kmeans_tr, perf_SVC_tr, perf_LinearSVC_tr, perf_NuSVC_tr]\n",
    "\n",
    "x_axis = [0, 1, 2, 3]"
   ]
  },
  {
   "cell_type": "code",
   "execution_count": 34,
   "metadata": {
    "collapsed": false
   },
   "outputs": [],
   "source": [
    "predictions_SVC_val_age1 = core_method_SVC(X_tr_age1, Y_tr_age1, X_val_age1)\n",
    "predictions_LinearSVC_val_age1 = core_method_LinearSVC(X_tr_age1, Y_tr_age1, X_val_age1)\n",
    "predictions_NuSVC_val_age1 = core_method_NuSVC(X_tr_age1, Y_tr_age1, X_val_age1)\n",
    "\n",
    "perf_SVC_val_age1 = performance(predictions_SVC_val_age1, Y_val_age1)\n",
    "perf_LinearSVC_val_age1 = performance(predictions_LinearSVC_val_age1, Y_val_age1)\n",
    "perf_NuSVC_val_age1 = performance(predictions_NuSVC_val_age1, Y_val_age1)\n",
    "\n",
    "\n",
    "predictions_SVC_val_age2 = core_method_SVC(X_tr_age2, Y_tr_age2, X_val_age2)\n",
    "predictions_LinearSVC_val_age2 = core_method_LinearSVC(X_tr_age2, Y_tr_age2, X_val_age2)\n",
    "predictions_NuSVC_val_age2 = core_method_NuSVC(X_tr_age2, Y_tr_age2, X_val_age2)\n",
    "\n",
    "perf_SVC_val_age2 = performance(predictions_SVC_val_age2, Y_val_age2)\n",
    "perf_LinearSVC_val_age2 = performance(predictions_LinearSVC_val_age2, Y_val_age2)\n",
    "perf_NuSVC_val_age2 = performance(predictions_NuSVC_val_age2, Y_val_age2)\n",
    "\n",
    "predictions_SVC_val_age3 = core_method_SVC(X_tr_age3, Y_tr_age3, X_val_age3)\n",
    "predictions_LinearSVC_val_age3 = core_method_LinearSVC(X_tr_age3, Y_tr_age3, X_val_age3)\n",
    "predictions_NuSVC_val_age3 = core_method_NuSVC(X_tr_age3, Y_tr_age3, X_val_age3)\n",
    "\n",
    "perf_SVC_val_age3 = performance(predictions_SVC_val_age3, Y_val_age3)\n",
    "perf_LinearSVC_val_age3 = performance(predictions_LinearSVC_val_age3, Y_val_age3)\n",
    "perf_NuSVC_val_age3 = performance(predictions_NuSVC_val_age3, Y_val_age3)\n",
    "\n",
    "predictions_SVC_val_age4 = core_method_SVC(X_tr_age4, Y_tr_age4, X_val_age4)\n",
    "predictions_LinearSVC_val_age4 = core_method_LinearSVC(X_tr_age4, Y_tr_age4, X_val_age4)\n",
    "predictions_NuSVC_val_age4 = core_method_NuSVC(X_tr_age4, Y_tr_age4, X_val_age4)\n",
    "\n",
    "perf_SVC_val_age4 = performance(predictions_SVC_val_age4, Y_val_age4)\n",
    "perf_LinearSVC_val_age4 = performance(predictions_LinearSVC_val_age4, Y_val_age4)\n",
    "perf_NuSVC_val_age4 = performance(predictions_NuSVC_val_age4, Y_val_age4)\n",
    "\n",
    "predictions_SVC_val_age5 = core_method_SVC(X_tr_age5, Y_tr_age5, X_val_age5)\n",
    "predictions_LinearSVC_val_age5 = core_method_LinearSVC(X_tr_age5, Y_tr_age5, X_val_age5)\n",
    "predictions_NuSVC_val_age5 = core_method_NuSVC(X_tr_age5, Y_tr_age5, X_val_age5)\n",
    "\n",
    "perf_SVC_val_age5 = performance(predictions_SVC_val_age5, Y_val_age5)\n",
    "perf_LinearSVC_val_age5 = performance(predictions_LinearSVC_val_age5, Y_val_age5)\n",
    "perf_NuSVC_val_age5 = performance(predictions_NuSVC_val_age5, Y_val_age5)\n"
   ]
  },
  {
   "cell_type": "code",
   "execution_count": 35,
   "metadata": {
    "collapsed": false
   },
   "outputs": [
    {
     "name": "stdout",
     "output_type": "stream",
     "text": [
      "[0.0, '$K-means$', '', '$SVC$', '', '$Linear\\\\ SVC$']\n"
     ]
    },
    {
     "data": {
      "text/plain": [
       "<matplotlib.legend.Legend at 0x7fbcfeb08cc0>"
      ]
     },
     "execution_count": 35,
     "metadata": {},
     "output_type": "execute_result"
    },
    {
     "data": {
      "image/png": "[encoded data removed]",
      "text/plain": [
       "<matplotlib.figure.Figure at 0x7fbcfeb915c0>"
      ]
     },
     "metadata": {},
     "output_type": "display_data"
    }
   ],
   "source": [
    "axes = figure(figsize=(7,5)).add_subplot(111)\n",
    "a=axes.get_xticks().tolist()\n",
    "a[1]='$K-means$'\n",
    "a[2] = ''\n",
    "a[3]='$SVC$'\n",
    "a[4] = ''\n",
    "a[5]='$Linear\\ SVC$'\n",
    "#a[7]='Nu SVC'\n",
    "text(2.8, 0.47, '$Nu\\ SVC$')\n",
    "print(a)\n",
    "axes.set_xticklabels(a)\n",
    "\n",
    "\n",
    "scatter(1, perf_SVC)\n",
    "scatter(2, perf_LinearSVC)\n",
    "scatter(3, perf_NuSVC)\n",
    "\n",
    "scatter(1, perf_SVC_tr,  marker='*', s=100)\n",
    "scatter(2, perf_LinearSVC_tr, marker='*', s=100)\n",
    "scatter(3, perf_NuSVC_tr, marker='*', s=100)\n",
    "\n",
    "\n",
    "scatter(0, perf_kmeans_tr, marker='*', s=100)\n",
    "scatter(0, perf_kmeans_val)\n",
    "\n",
    "plot(x_axis, training, label='$Training$')\n",
    "plot(x_axis, validation, label='$Validation$')\n",
    "ylabel('$Efficiency$', fontsize=15)\n",
    "legend(fontsize=15)\n",
    "#savefig('All_eff.pdf', bbox_inches='tight')"
   ]
  },
  {
   "cell_type": "code",
   "execution_count": 37,
   "metadata": {
    "collapsed": false
   },
   "outputs": [
    {
     "data": {
      "image/png": "[encoded data removed]",
      "text/plain": [
       "<matplotlib.figure.Figure at 0x7fbcfea9c828>"
      ]
     },
     "metadata": {},
     "output_type": "display_data"
    }
   ],
   "source": [
    "figure(figsize=(7,5))\n",
    "plot(ages[:-1], [perf_LinearSVC_val_age1, perf_LinearSVC_val_age2, perf_LinearSVC_val_age3, perf_LinearSVC_val_age4, \n",
    "           perf_LinearSVC_val_age5], label='$Linear\\ SVC$')\n",
    "\n",
    "plot(ages[:-1], [perf_SVC_val_age1, perf_SVC_val_age2, perf_SVC_val_age3, perf_SVC_val_age4, perf_SVC_val_age5],\n",
    "    label='$SVC$')\n",
    "\n",
    "#plot(ages[:-1], [perf_NuSVC_val_age1, perf_NuSVC_val_age2, perf_NuSVC_val_age3, perf_NuSVC_val_age4, \n",
    "#           perf_NuSVC_val_age5])\n",
    "legend(fontsize=15)\n",
    "ylabel('$Efficiency$', fontsize=15)\n",
    "xlabel('$Age$', fontsize=15)\n",
    "savefig('SVC_age.pdf', bbox_inches='tight')"
   ]
  },
  {
   "cell_type": "markdown",
   "metadata": {},
   "source": [
    "## genre"
   ]
  },
  {
   "cell_type": "code",
   "execution_count": 38,
   "metadata": {
    "collapsed": false
   },
   "outputs": [],
   "source": [
    "predictions_SVC_val_gen1 = core_method_SVC(X_tr_genre1, Y_tr_genre1, X_val_genre1)\n",
    "predictions_LinearSVC_val_gen1 = core_method_LinearSVC(X_tr_genre1, Y_tr_genre1, X_val_genre1)\n",
    "predictions_NuSVC_val_gen1 = core_method_NuSVC(X_tr_genre1, Y_tr_genre1, X_val_genre1)\n",
    "\n",
    "perf_SVC_val_gen1 = performance(predictions_SVC_val_gen1, Y_val_genre1)\n",
    "perf_LinearSVC_val_gen1 = performance(predictions_LinearSVC_val_gen1, Y_val_genre1)\n",
    "perf_NuSVC_val_gen1 = performance(predictions_NuSVC_val_gen1, Y_val_genre1)\n",
    "\n",
    "\n",
    "predictions_SVC_val_gen2 = core_method_SVC(X_tr_genre2, Y_tr_genre2, X_val_genre2)\n",
    "predictions_LinearSVC_val_gen2 = core_method_LinearSVC(X_tr_genre2, Y_tr_genre2, X_val_genre2)\n",
    "predictions_NuSVC_val_gen2 = core_method_NuSVC(X_tr_genre2, Y_tr_genre2, X_val_genre2)\n",
    "\n",
    "perf_SVC_val_gen2 = performance(predictions_SVC_val_gen2, Y_val_genre2)\n",
    "perf_LinearSVC_val_gen2 = performance(predictions_LinearSVC_val_gen2, Y_val_genre2)\n",
    "perf_NuSVC_val_gen2 = performance(predictions_NuSVC_val_gen2, Y_val_genre2)\n",
    "\n",
    "predictions_SVC_val_gen3 = core_method_SVC(X_tr_genre3, Y_tr_genre3, X_val_genre3)\n",
    "predictions_LinearSVC_val_gen3 = core_method_LinearSVC(X_tr_genre3, Y_tr_genre3, X_val_genre3)\n",
    "predictions_NuSVC_val_gen3 = core_method_NuSVC(X_tr_genre3, Y_tr_genre3, X_val_genre3)\n",
    "\n",
    "perf_SVC_val_gen3 = performance(predictions_SVC_val_gen3, Y_val_genre3)\n",
    "perf_LinearSVC_val_gen3 = performance(predictions_LinearSVC_val_gen3, Y_val_genre3)\n",
    "perf_NuSVC_val_gen3 = performance(predictions_NuSVC_val_gen3, Y_val_genre3)\n",
    "\n",
    "predictions_SVC_val_gen4 = core_method_SVC(X_tr_genre4, Y_tr_genre4, X_val_genre4)\n",
    "predictions_LinearSVC_val_gen4 = core_method_LinearSVC(X_tr_genre4, Y_tr_genre4, X_val_genre4)\n",
    "predictions_NuSVC_val_gen4 = core_method_NuSVC(X_tr_genre4, Y_tr_genre4, X_val_genre4)\n",
    "\n",
    "perf_SVC_val_gen4 = performance(predictions_SVC_val_gen4, Y_val_genre4)\n",
    "perf_LinearSVC_val_gen4 = performance(predictions_LinearSVC_val_gen4, Y_val_genre4)\n",
    "perf_NuSVC_val_gen4 = performance(predictions_NuSVC_val_gen4, Y_val_genre4)"
   ]
  },
  {
   "cell_type": "code",
   "execution_count": 45,
   "metadata": {
    "collapsed": false
   },
   "outputs": [
    {
     "data": {
      "image/png": "[encoded data removed]",
      "text/plain": [
       "<matplotlib.figure.Figure at 0x7fbcfe499470>"
      ]
     },
     "metadata": {},
     "output_type": "display_data"
    }
   ],
   "source": [
    "figure(figsize=(7,5))\n",
    "\n",
    "\n",
    "plot([91, 92, 93, 94], [perf_LinearSVC_val_gen1, perf_LinearSVC_val_gen2, perf_LinearSVC_val_gen3, \n",
    "                        perf_LinearSVC_val_gen4], label='$Linear\\ SVN$')\n",
    "\n",
    "\n",
    "plot([91, 92, 93, 94], [perf_SVC_val_gen1, perf_SVC_val_gen2, perf_SVC_val_gen3, \n",
    "                        perf_SVC_val_gen4], label='$SVN$')\n",
    "\n",
    "legend(fontsize=15)\n",
    "ylabel('$Efficiency$', fontsize=15)\n",
    "xlabel('$Genre$', fontsize=15)\n",
    "savefig('SVC_genre.pdf', bbox_inches='tight')\n"
   ]
  },
  {
   "cell_type": "markdown",
   "metadata": {},
   "source": [
    "## 2."
   ]
  },
  {
   "cell_type": "code",
   "execution_count": 121,
   "metadata": {
    "collapsed": true
   },
   "outputs": [],
   "source": [
    "def core_method(X_train, Y_train, data_test, col_del):\n",
    "    X_del = delete(X_train, col_del, 1)\n",
    "    X_val_del = delete(data_test, col_del, 1)\n",
    "    #print(shape(X_del))\n",
    "    clf = svm.NuSVC()\n",
    "    clf.fit(X_del, Y_train)\n",
    "    predictions = clf.predict(X_val_del)\n",
    "    return predictions"
   ]
  },
  {
   "cell_type": "code",
   "execution_count": 122,
   "metadata": {
    "collapsed": false
   },
   "outputs": [],
   "source": [
    "pred_no_age = core_method(X_tr, Y_tr, X_val, 12)\n",
    "pred_no_genre = core_method(X_tr, Y_tr, X_val, 14)"
   ]
  },
  {
   "cell_type": "code",
   "execution_count": 123,
   "metadata": {
    "collapsed": false
   },
   "outputs": [
    {
     "data": {
      "text/plain": [
       "0.69999999999999996"
      ]
     },
     "execution_count": 123,
     "metadata": {},
     "output_type": "execute_result"
    }
   ],
   "source": [
    "performance(pred_no_age, Y_val)\n"
   ]
  },
  {
   "cell_type": "code",
   "execution_count": null,
   "metadata": {
    "collapsed": true
   },
   "outputs": [],
   "source": []
  },
  {
   "cell_type": "code",
   "execution_count": 124,
   "metadata": {
    "collapsed": false
   },
   "outputs": [
    {
     "data": {
      "text/plain": [
       "0.67999999999999994"
      ]
     },
     "execution_count": 124,
     "metadata": {},
     "output_type": "execute_result"
    }
   ],
   "source": [
    "performance(pred_no_genre, Y_val)"
   ]
  },
  {
   "cell_type": "code",
   "execution_count": 133,
   "metadata": {
    "collapsed": false
   },
   "outputs": [
    {
     "name": "stdout",
     "output_type": "stream",
     "text": [
      "0.68\n",
      "0.64\n",
      "0.68\n",
      "0.68\n",
      "0.6\n",
      "0.7\n",
      "0.68\n",
      "0.7\n",
      "0.7\n",
      "0.7\n",
      "0.68\n",
      "0.7\n",
      "0.7\n",
      "0.68\n",
      "0.68\n",
      "0.68\n",
      "0.7\n",
      "0.7\n",
      "0.7\n"
     ]
    }
   ],
   "source": [
    "for i in range(19):\n",
    "    pred_no = core_method(X_tr, Y_tr, X_val, i)\n",
    "    p = performance(pred_no, Y_val)\n",
    "    print(p)\n",
    "\n",
    "    "
   ]
  },
  {
   "cell_type": "code",
   "execution_count": null,
   "metadata": {
    "collapsed": true
   },
   "outputs": [],
   "source": []
  }
 ],
 "metadata": {
  "kernelspec": {
   "display_name": "Python 3",
   "language": "python",
   "name": "python3"
  },
  "language_info": {
   "codemirror_mode": {
    "name": "ipython",
    "version": 3
   },
   "file_extension": ".py",
   "mimetype": "text/x-python",
   "name": "python",
   "nbconvert_exporter": "python",
   "pygments_lexer": "ipython3",
   "version": "3.4.3"
  }
 },
 "nbformat": 4,
 "nbformat_minor": 0
}
